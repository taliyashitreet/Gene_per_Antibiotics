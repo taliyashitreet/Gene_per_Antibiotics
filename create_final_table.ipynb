{
 "cells": [
  {
   "cell_type": "code",
   "execution_count": 2,
   "metadata": {
    "collapsed": true,
    "pycharm": {
     "name": "#%%\n"
    }
   },
   "outputs": [],
   "source": [
    "import pandas as pd\n",
    "import numpy as np"
   ]
  },
  {
   "cell_type": "code",
   "execution_count": 3,
   "outputs": [],
   "source": [
    "df_ast_r = pd.read_csv(\"/Users/taliyas/PycharmProjects/FinalProject/new df/df_ast_r.csv\")\n",
    "df_ast_s = pd.read_csv(\"/Users/taliyas/PycharmProjects/FinalProject/new df/df_ast_s.csv\")\n",
    "df_gens = pd.read_csv(\"/Users/taliyas/PycharmProjects/FinalProject/new df/df_gens.csv\")\n",
    "df_index = pd.read_csv(\"/Users/taliyas/PycharmProjects/FinalProject/new df/df_index.csv\")\n",
    "df_origin = pd.read_csv(\"/Users/taliyas/PycharmProjects/FinalProject/isolates (1).csv\")\n",
    "df_gens_anti_R = pd.read_csv('df_gens_anti_R.csv')\n",
    "df_antibiotic_family = pd.read_csv('antibiotic_family.csv')"
   ],
   "metadata": {
    "collapsed": false,
    "pycharm": {
     "name": "#%%\n"
    }
   }
  },
  {
   "cell_type": "code",
   "execution_count": 4,
   "outputs": [
    {
     "data": {
      "text/plain": "(1918, 2)"
     },
     "execution_count": 4,
     "metadata": {},
     "output_type": "execute_result"
    }
   ],
   "source": [
    "# First, merge the \"aro-term\" and \"amr_gene_family\" from df_gens_anti_R into the final_table.\n",
    "final_table = df_gens_anti_R[['amr_gene_family', 'aro_term']].drop_duplicates().copy()\n",
    "final_table.columns = ['gene family', 'gene']\n",
    "final_table.shape"
   ],
   "metadata": {
    "collapsed": false,
    "pycharm": {
     "name": "#%%\n"
    }
   }
  },
  {
   "cell_type": "code",
   "execution_count": 5,
   "outputs": [
    {
     "name": "stdout",
     "output_type": "stream",
     "text": [
      "                                               gene family  \\\n",
      "0                                                 ANT(2'')   \n",
      "1011     major facilitator superfamily (MFS) antibiotic...   \n",
      "15309                            sulfonamide resistant sul   \n",
      "29319    resistance-nodulation-cell division (RND) anti...   \n",
      "29320                                   OXA beta-lactamase   \n",
      "...                                                    ...   \n",
      "2920424         glycopeptide resistance gene cluster; vanR   \n",
      "2920520                       fosfomycin thiol transferase   \n",
      "2920522                                CARB beta-lactamase   \n",
      "2920529  23S rRNA with mutation conferring resistance t...   \n",
      "2920542            Cfr 23S ribosomal RNA methyltransferase   \n",
      "\n",
      "                                                      gene  \n",
      "0                                              ANT(2'')-Ia  \n",
      "1011                                            qacEdelta1  \n",
      "15309                                                 sul1  \n",
      "29319                                                 adeF  \n",
      "29320                                             OXA-114a  \n",
      "...                                                    ...  \n",
      "2920424                                              vanRO  \n",
      "2920520                                               FosK  \n",
      "2920522                                            CARB-12  \n",
      "2920529  Propionibacteria 23S rRNA with mutation confer...  \n",
      "2920542                                               clbB  \n",
      "\n",
      "[1918 rows x 2 columns]\n"
     ]
    }
   ],
   "source": [
    "print(final_table)"
   ],
   "metadata": {
    "collapsed": false,
    "pycharm": {
     "name": "#%%\n"
    }
   }
  },
  {
   "cell_type": "code",
   "execution_count": 6,
   "outputs": [
    {
     "name": "stdout",
     "output_type": "stream",
     "text": [
      "114\n"
     ]
    }
   ],
   "source": [
    "# Convert pandas series to sets\n",
    "set_gen = set(df_gens[\"gen\"])\n",
    "set_aro_term = set(df_gens_anti_R['aro_term'])\n",
    "\n",
    "# Find the intersection (overlapping values) and count the number of items\n",
    "overlap = set_gen.intersection(set_aro_term)\n",
    "overlap_count = len(overlap)\n",
    "\n",
    "print(overlap_count)\n"
   ],
   "metadata": {
    "collapsed": false,
    "pycharm": {
     "name": "#%%\n"
    }
   }
  },
  {
   "cell_type": "code",
   "execution_count": 7,
   "outputs": [],
   "source": [
    "# Find the difference between set_gen and set_aro_term\n",
    "genes_in_gen_not_in_aro_term = set_gen.difference(set_aro_term)\n",
    "# Create a new dataframe for genes_in_gen_not_in_aro_term\n",
    "genes_to_append = pd.DataFrame(genes_in_gen_not_in_aro_term, columns=['gene'])\n",
    "genes_to_append['gene family'] = np.nan\n",
    "\n",
    "# Append this dataframe to final_table\n",
    "final_table = pd.concat([final_table, genes_to_append], axis=0)\n"
   ],
   "metadata": {
    "collapsed": false,
    "pycharm": {
     "name": "#%%\n"
    }
   }
  },
  {
   "cell_type": "code",
   "execution_count": 8,
   "outputs": [],
   "source": [
    "# Add a dummy key to both dataframes\n",
    "final_table['key'] = 1\n",
    "df_antibiotic_family['key'] = 1\n",
    "\n",
    "# Merge on the dummy key\n",
    "final_table = pd.merge(final_table, df_antibiotic_family[['antibiotics', 'family', 'key']], on='key')\n",
    "\n",
    "# Drop the dummy key\n",
    "final_table.drop('key', axis=1, inplace=True)\n"
   ],
   "metadata": {
    "collapsed": false,
    "pycharm": {
     "name": "#%%\n"
    }
   }
  },
  {
   "cell_type": "code",
   "execution_count": 9,
   "outputs": [
    {
     "data": {
      "text/plain": "Index(['gene family', 'gene', 'antibiotics', 'family'], dtype='object')"
     },
     "execution_count": 9,
     "metadata": {},
     "output_type": "execute_result"
    }
   ],
   "source": [
    "# Drop duplicates based on 'gene' and 'antibiotic'\n",
    "\n",
    "final_table.columns"
   ],
   "metadata": {
    "collapsed": false,
    "pycharm": {
     "name": "#%%\n"
    }
   }
  },
  {
   "cell_type": "code",
   "execution_count": 10,
   "outputs": [],
   "source": [
    "# Drop duplicates based on 'gene' and 'antibiotic'\n",
    "final_table = final_table.drop_duplicates(subset=['gene', 'antibiotics'])\n"
   ],
   "metadata": {
    "collapsed": false,
    "pycharm": {
     "name": "#%%\n"
    }
   }
  },
  {
   "cell_type": "code",
   "execution_count": 11,
   "outputs": [],
   "source": [
    "# Rename 'antibiotics' to 'antibiotic' and 'family' to 'drug_class'\n",
    "final_table = final_table.rename(columns={'antibiotics': 'antibiotic', 'family': 'drug_class'})\n"
   ],
   "metadata": {
    "collapsed": false,
    "pycharm": {
     "name": "#%%\n"
    }
   }
  },
  {
   "cell_type": "code",
   "execution_count": 12,
   "outputs": [
    {
     "data": {
      "text/plain": "(264384, 4)"
     },
     "execution_count": 12,
     "metadata": {},
     "output_type": "execute_result"
    }
   ],
   "source": [
    "final_table.shape"
   ],
   "metadata": {
    "collapsed": false,
    "pycharm": {
     "name": "#%%\n"
    }
   }
  },
  {
   "cell_type": "code",
   "execution_count": 13,
   "outputs": [
    {
     "data": {
      "text/plain": "       gene family         gene                     antibiotic      drug_class\n0         ANT(2'')  ANT(2'')-Ia                  spectinomycin  aminoglycoside\n1         ANT(2'')  ANT(2'')-Ia  trimethoprim-sulfamethoxazole     sulfonamide\n2         ANT(2'')  ANT(2'')-Ia                   azithromycin       macrolide\n3         ANT(2'')  ANT(2'')-Ia          ceftazidime-avibactam  beta-lactamase\n4         ANT(2'')  ANT(2'')-Ia                   piperacillin      Penicillin\n...            ...          ...                            ...             ...\n264379         NaN   blaOXY-5-4                    ceftazidime  beta-lactamase\n264380         NaN   blaOXY-5-4    amoxicillin-clavulanic acid  beta-lactamase\n264381         NaN   blaOXY-5-4                   streptomycin  Aminoglycoside\n264382         NaN   blaOXY-5-4                   moxifloxacin       Quinolone\n264383         NaN   blaOXY-5-4                  metronidazole      nitrofuran\n\n[264384 rows x 4 columns]",
      "text/html": "<div>\n<style scoped>\n    .dataframe tbody tr th:only-of-type {\n        vertical-align: middle;\n    }\n\n    .dataframe tbody tr th {\n        vertical-align: top;\n    }\n\n    .dataframe thead th {\n        text-align: right;\n    }\n</style>\n<table border=\"1\" class=\"dataframe\">\n  <thead>\n    <tr style=\"text-align: right;\">\n      <th></th>\n      <th>gene family</th>\n      <th>gene</th>\n      <th>antibiotic</th>\n      <th>drug_class</th>\n    </tr>\n  </thead>\n  <tbody>\n    <tr>\n      <th>0</th>\n      <td>ANT(2'')</td>\n      <td>ANT(2'')-Ia</td>\n      <td>spectinomycin</td>\n      <td>aminoglycoside</td>\n    </tr>\n    <tr>\n      <th>1</th>\n      <td>ANT(2'')</td>\n      <td>ANT(2'')-Ia</td>\n      <td>trimethoprim-sulfamethoxazole</td>\n      <td>sulfonamide</td>\n    </tr>\n    <tr>\n      <th>2</th>\n      <td>ANT(2'')</td>\n      <td>ANT(2'')-Ia</td>\n      <td>azithromycin</td>\n      <td>macrolide</td>\n    </tr>\n    <tr>\n      <th>3</th>\n      <td>ANT(2'')</td>\n      <td>ANT(2'')-Ia</td>\n      <td>ceftazidime-avibactam</td>\n      <td>beta-lactamase</td>\n    </tr>\n    <tr>\n      <th>4</th>\n      <td>ANT(2'')</td>\n      <td>ANT(2'')-Ia</td>\n      <td>piperacillin</td>\n      <td>Penicillin</td>\n    </tr>\n    <tr>\n      <th>...</th>\n      <td>...</td>\n      <td>...</td>\n      <td>...</td>\n      <td>...</td>\n    </tr>\n    <tr>\n      <th>264379</th>\n      <td>NaN</td>\n      <td>blaOXY-5-4</td>\n      <td>ceftazidime</td>\n      <td>beta-lactamase</td>\n    </tr>\n    <tr>\n      <th>264380</th>\n      <td>NaN</td>\n      <td>blaOXY-5-4</td>\n      <td>amoxicillin-clavulanic acid</td>\n      <td>beta-lactamase</td>\n    </tr>\n    <tr>\n      <th>264381</th>\n      <td>NaN</td>\n      <td>blaOXY-5-4</td>\n      <td>streptomycin</td>\n      <td>Aminoglycoside</td>\n    </tr>\n    <tr>\n      <th>264382</th>\n      <td>NaN</td>\n      <td>blaOXY-5-4</td>\n      <td>moxifloxacin</td>\n      <td>Quinolone</td>\n    </tr>\n    <tr>\n      <th>264383</th>\n      <td>NaN</td>\n      <td>blaOXY-5-4</td>\n      <td>metronidazole</td>\n      <td>nitrofuran</td>\n    </tr>\n  </tbody>\n</table>\n<p>264384 rows × 4 columns</p>\n</div>"
     },
     "execution_count": 13,
     "metadata": {},
     "output_type": "execute_result"
    }
   ],
   "source": [
    "final_table"
   ],
   "metadata": {
    "collapsed": false,
    "pycharm": {
     "name": "#%%\n"
    }
   }
  },
  {
   "cell_type": "code",
   "execution_count": 14,
   "outputs": [
    {
     "data": {
      "text/plain": "2754"
     },
     "execution_count": 14,
     "metadata": {},
     "output_type": "execute_result"
    }
   ],
   "source": [
    "final_table['gene'].nunique()"
   ],
   "metadata": {
    "collapsed": false,
    "pycharm": {
     "name": "#%%\n"
    }
   }
  },
  {
   "cell_type": "code",
   "execution_count": 15,
   "outputs": [],
   "source": [
    "final_table['label'] = None"
   ],
   "metadata": {
    "collapsed": false,
    "pycharm": {
     "name": "#%%\n"
    }
   }
  },
  {
   "cell_type": "code",
   "execution_count": 16,
   "outputs": [
    {
     "data": {
      "text/plain": "Index(['gene family', 'gene', 'antibiotic', 'drug_class', 'label'], dtype='object')"
     },
     "execution_count": 16,
     "metadata": {},
     "output_type": "execute_result"
    }
   ],
   "source": [
    "final_table.columns"
   ],
   "metadata": {
    "collapsed": false,
    "pycharm": {
     "name": "#%%\n"
    }
   }
  },
  {
   "cell_type": "code",
   "execution_count": 18,
   "outputs": [],
   "source": [
    "# Iterating over each index, antibiotic in df_ast_s\n",
    "for _, row in df_ast_s.iterrows():\n",
    "    index = row['index']\n",
    "    antibiotic = row['antibiotic']\n",
    "\n",
    "    # Finding corresponding gens in df_gens\n",
    "    matching_gens = df_gens[df_gens['index'] == index]['gen']\n",
    "\n",
    "    # Updating values in new_tab\n",
    "    for gen in matching_gens:\n",
    "       final_table.loc[(final_table['gene'] == gen) & (final_table['antibiotic'] == antibiotic), 'label'] = 'S'\n",
    "final_table.to_csv(\"Final_Table.csv\", index=False)"
   ],
   "metadata": {
    "collapsed": false,
    "pycharm": {
     "name": "#%%\n"
    }
   }
  },
  {
   "cell_type": "code",
   "execution_count": 19,
   "outputs": [
    {
     "data": {
      "text/plain": "       gene family         gene                     antibiotic  \\\n0         ANT(2'')  ANT(2'')-Ia                  spectinomycin   \n1         ANT(2'')  ANT(2'')-Ia  trimethoprim-sulfamethoxazole   \n2         ANT(2'')  ANT(2'')-Ia                   azithromycin   \n3         ANT(2'')  ANT(2'')-Ia          ceftazidime-avibactam   \n4         ANT(2'')  ANT(2'')-Ia                   piperacillin   \n...            ...          ...                            ...   \n264379         NaN   blaOXY-5-4                    ceftazidime   \n264380         NaN   blaOXY-5-4    amoxicillin-clavulanic acid   \n264381         NaN   blaOXY-5-4                   streptomycin   \n264382         NaN   blaOXY-5-4                   moxifloxacin   \n264383         NaN   blaOXY-5-4                  metronidazole   \n\n            drug_class label  \n0       aminoglycoside  None  \n1          sulfonamide  None  \n2            macrolide  None  \n3       beta-lactamase  None  \n4           Penicillin  None  \n...                ...   ...  \n264379  beta-lactamase  None  \n264380  beta-lactamase  None  \n264381  Aminoglycoside  None  \n264382       Quinolone  None  \n264383      nitrofuran  None  \n\n[264384 rows x 5 columns]",
      "text/html": "<div>\n<style scoped>\n    .dataframe tbody tr th:only-of-type {\n        vertical-align: middle;\n    }\n\n    .dataframe tbody tr th {\n        vertical-align: top;\n    }\n\n    .dataframe thead th {\n        text-align: right;\n    }\n</style>\n<table border=\"1\" class=\"dataframe\">\n  <thead>\n    <tr style=\"text-align: right;\">\n      <th></th>\n      <th>gene family</th>\n      <th>gene</th>\n      <th>antibiotic</th>\n      <th>drug_class</th>\n      <th>label</th>\n    </tr>\n  </thead>\n  <tbody>\n    <tr>\n      <th>0</th>\n      <td>ANT(2'')</td>\n      <td>ANT(2'')-Ia</td>\n      <td>spectinomycin</td>\n      <td>aminoglycoside</td>\n      <td>None</td>\n    </tr>\n    <tr>\n      <th>1</th>\n      <td>ANT(2'')</td>\n      <td>ANT(2'')-Ia</td>\n      <td>trimethoprim-sulfamethoxazole</td>\n      <td>sulfonamide</td>\n      <td>None</td>\n    </tr>\n    <tr>\n      <th>2</th>\n      <td>ANT(2'')</td>\n      <td>ANT(2'')-Ia</td>\n      <td>azithromycin</td>\n      <td>macrolide</td>\n      <td>None</td>\n    </tr>\n    <tr>\n      <th>3</th>\n      <td>ANT(2'')</td>\n      <td>ANT(2'')-Ia</td>\n      <td>ceftazidime-avibactam</td>\n      <td>beta-lactamase</td>\n      <td>None</td>\n    </tr>\n    <tr>\n      <th>4</th>\n      <td>ANT(2'')</td>\n      <td>ANT(2'')-Ia</td>\n      <td>piperacillin</td>\n      <td>Penicillin</td>\n      <td>None</td>\n    </tr>\n    <tr>\n      <th>...</th>\n      <td>...</td>\n      <td>...</td>\n      <td>...</td>\n      <td>...</td>\n      <td>...</td>\n    </tr>\n    <tr>\n      <th>264379</th>\n      <td>NaN</td>\n      <td>blaOXY-5-4</td>\n      <td>ceftazidime</td>\n      <td>beta-lactamase</td>\n      <td>None</td>\n    </tr>\n    <tr>\n      <th>264380</th>\n      <td>NaN</td>\n      <td>blaOXY-5-4</td>\n      <td>amoxicillin-clavulanic acid</td>\n      <td>beta-lactamase</td>\n      <td>None</td>\n    </tr>\n    <tr>\n      <th>264381</th>\n      <td>NaN</td>\n      <td>blaOXY-5-4</td>\n      <td>streptomycin</td>\n      <td>Aminoglycoside</td>\n      <td>None</td>\n    </tr>\n    <tr>\n      <th>264382</th>\n      <td>NaN</td>\n      <td>blaOXY-5-4</td>\n      <td>moxifloxacin</td>\n      <td>Quinolone</td>\n      <td>None</td>\n    </tr>\n    <tr>\n      <th>264383</th>\n      <td>NaN</td>\n      <td>blaOXY-5-4</td>\n      <td>metronidazole</td>\n      <td>nitrofuran</td>\n      <td>None</td>\n    </tr>\n  </tbody>\n</table>\n<p>264384 rows × 5 columns</p>\n</div>"
     },
     "execution_count": 19,
     "metadata": {},
     "output_type": "execute_result"
    }
   ],
   "source": [
    "final_table"
   ],
   "metadata": {
    "collapsed": false,
    "pycharm": {
     "name": "#%%\n"
    }
   }
  },
  {
   "cell_type": "code",
   "execution_count": 20,
   "outputs": [],
   "source": [
    "final_table.to_csv(\"Final_Table_last.csv\", index=False)"
   ],
   "metadata": {
    "collapsed": false,
    "pycharm": {
     "name": "#%%\n"
    }
   }
  },
  {
   "cell_type": "code",
   "execution_count": 21,
   "outputs": [
    {
     "data": {
      "text/plain": "2754"
     },
     "execution_count": 21,
     "metadata": {},
     "output_type": "execute_result"
    }
   ],
   "source": [
    "final_table['gene'].nunique()"
   ],
   "metadata": {
    "collapsed": false,
    "pycharm": {
     "name": "#%%\n"
    }
   }
  },
  {
   "cell_type": "code",
   "execution_count": 22,
   "outputs": [
    {
     "data": {
      "text/plain": "96"
     },
     "execution_count": 22,
     "metadata": {},
     "output_type": "execute_result"
    }
   ],
   "source": [
    "final_table['antibiotic'].nunique()"
   ],
   "metadata": {
    "collapsed": false,
    "pycharm": {
     "name": "#%%\n"
    }
   }
  }
 ],
 "metadata": {
  "kernelspec": {
   "display_name": "Python 3",
   "language": "python",
   "name": "python3"
  },
  "language_info": {
   "codemirror_mode": {
    "name": "ipython",
    "version": 2
   },
   "file_extension": ".py",
   "mimetype": "text/x-python",
   "name": "python",
   "nbconvert_exporter": "python",
   "pygments_lexer": "ipython2",
   "version": "2.7.6"
  }
 },
 "nbformat": 4,
 "nbformat_minor": 0
}