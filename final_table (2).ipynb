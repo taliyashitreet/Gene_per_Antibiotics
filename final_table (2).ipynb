{
 "cells": [
  {
   "cell_type": "code",
   "execution_count": null,
   "outputs": [],
   "source": [
    "import pandas as pd\n",
    "import numpy as np"
   ],
   "metadata": {
    "collapsed": false,
    "pycharm": {
     "name": "#%%\n"
    }
   }
  },
  {
   "cell_type": "code",
   "execution_count": null,
   "outputs": [],
   "source": [
    "df_gens_anti_R =pd.read_csv('df_gens_anti_R.csv')\n",
    "final_table_df = pd.read_csv('Final_Table.csv')\n",
    "antibiotic_family = pd.read_csv('antibiotic_family.csv')"
   ],
   "metadata": {
    "collapsed": false,
    "pycharm": {
     "name": "#%%\n"
    }
   }
  },
  {
   "cell_type": "markdown",
   "source": [
    "### preprocessing df_gens_anti_R "
   ],
   "metadata": {
    "collapsed": false
   }
  },
  {
   "cell_type": "code",
   "execution_count": null,
   "outputs": [],
   "source": [
    "df_gens_anti_R.shape"
   ],
   "metadata": {
    "collapsed": false,
    "pycharm": {
     "name": "#%%\n"
    }
   }
  },
  {
   "cell_type": "code",
   "execution_count": null,
   "outputs": [],
   "source": [],
   "metadata": {
    "collapsed": false,
    "pycharm": {
     "name": "#%%\n"
    }
   }
  },
  {
   "cell_type": "code",
   "execution_count": null,
   "outputs": [],
   "source": [
    "grouped_df_gens_anti_R = df_gens_anti_R.groupby(['aro_term', 'drug_class', 'amr_gene_family']).first().reset_index()\n",
    "grouped_df_gens_anti_R.shape"
   ],
   "metadata": {
    "collapsed": false,
    "pycharm": {
     "name": "#%%\n"
    }
   }
  },
  {
   "cell_type": "code",
   "execution_count": null,
   "outputs": [],
   "source": [
    "grouped_df_gens_anti_R = grouped_df_gens_anti_R.iloc[:, :3]"
   ],
   "metadata": {
    "collapsed": false,
    "pycharm": {
     "name": "#%%\n"
    }
   }
  },
  {
   "cell_type": "code",
   "execution_count": null,
   "outputs": [],
   "source": [
    "grouped_df_gens_anti_R"
   ],
   "metadata": {
    "collapsed": false,
    "pycharm": {
     "name": "#%%\n"
    }
   }
  },
  {
   "cell_type": "code",
   "execution_count": null,
   "outputs": [],
   "source": [
    "import pandas as pd\n",
    "\n",
    "# Create an empty DataFrame to store the updated rows\n",
    "updated_rows1 = pd.DataFrame(columns=['aro_term', 'drug_class', 'amr_gene_family'])\n",
    "\n",
    "# Iterate over the rows of the original DataFrame\n",
    "for index, row in grouped_df_gens_anti_R.iterrows():\n",
    "    drug_classes = row['drug_class'].split(';')  # Split the 'drug_class' values by ';'\n",
    "\n",
    "    # Create new rows for each 'aro_term' and separated 'drug_class'\n",
    "    for drug_class in drug_classes:\n",
    "        if drug_class.endswith(\" antibiotic\"):\n",
    "            drug_class = drug_class[:-11]  # Remove the last 10 characters (\" antibiotic\")\n",
    "        if drug_class.startswith(\" \"):\n",
    "            drug_class = drug_class[1:]  # Remove leading space\n",
    "        updated_rows1 = pd.concat([updated_rows1, pd.DataFrame({'aro_term': [row['aro_term']], 'drug_class': [drug_class], 'amr_gene_family': [row['amr_gene_family']]})])\n",
    "\n",
    "# Print the updated DataFrame\n",
    "print(updated_rows1)\n"
   ],
   "metadata": {
    "collapsed": false,
    "pycharm": {
     "name": "#%%\n"
    }
   }
  },
  {
   "cell_type": "code",
   "execution_count": null,
   "outputs": [],
   "source": [
    "grouped_df_gens_anti_R = updated_rows1\n",
    "grouped_df_gens_anti_R"
   ],
   "metadata": {
    "collapsed": false,
    "pycharm": {
     "name": "#%%\n"
    }
   }
  },
  {
   "cell_type": "code",
   "execution_count": null,
   "outputs": [],
   "source": [
    "grouped_df_gens_anti_R['amr_gene_family_transformed'] = np.where(\n",
    "    grouped_df_gens_anti_R['amr_gene_family'].str.contains('beta-lactamase'),\n",
    "    'beta-lactamase',\n",
    "    np.where(\n",
    "        grouped_df_gens_anti_R['amr_gene_family'].str.contains('quinolone'),\n",
    "        'quinolone',\n",
    "        grouped_df_gens_anti_R['amr_gene_family']\n",
    "    )\n",
    ")"
   ],
   "metadata": {
    "collapsed": false,
    "pycharm": {
     "name": "#%%\n"
    }
   }
  },
  {
   "cell_type": "code",
   "execution_count": null,
   "outputs": [],
   "source": [
    "grouped_df_gens_anti_R['amr_gene_family'] = grouped_df_gens_anti_R['amr_gene_family_transformed']\n",
    "grouped_df_gens_anti_R.iloc[:, :3]"
   ],
   "metadata": {
    "collapsed": false,
    "pycharm": {
     "name": "#%%\n"
    }
   }
  },
  {
   "cell_type": "code",
   "execution_count": null,
   "outputs": [],
   "source": [
    "final_df = final_table_df.copy()\n",
    "final_df['R'] = None\n",
    "final_df = final_df.rename(columns={'label': 'S'})\n",
    "try:\n",
    "    for index, row in grouped_df_gens_anti_R.iterrows():\n",
    "        gene = str(row['aro_term']).lower()\n",
    "        drug_class = str(row['drug_class']).lower()\n",
    "        amr_gene_family = str(row['amr_gene_family']).lower()\n",
    "        mask = (final_df['gene'].str.lower() == gene) & ((final_df['drug_class'].str.lower() == drug_class) | (final_df['drug_class'].str.lower() == amr_gene_family))\n",
    "        final_df.loc[mask, 'R'] = 1\n",
    "except Exception as e:\n",
    "    print('An error occurred:', str(e))\n",
    "    final_df.to_csv(\"final_df_lower_exception_20230530_A.csv\", index=False)\n",
    "\n",
    "final_df.to_csv(\"final_df_lower_success_20230530_A.csv\", index=False)\n"
   ],
   "metadata": {
    "collapsed": false,
    "pycharm": {
     "name": "#%%\n"
    }
   }
  },
  {
   "cell_type": "code",
   "execution_count": null,
   "outputs": [],
   "source": [
    "df_old = pd.read_csv(r'C:\\Users\\taliya shitreet\\PycharmProjects\\NER\\final_df_lower_success.csv')\n",
    "df_old"
   ],
   "metadata": {
    "collapsed": false,
    "pycharm": {
     "name": "#%%\n"
    }
   }
  },
  {
   "cell_type": "code",
   "execution_count": 75,
   "outputs": [
    {
     "name": "stdout",
     "output_type": "stream",
     "text": [
      "count_R_old:  10319 \n",
      "count_R_new:  38985 \n",
      "count_S_old:  14235 \n",
      "count_S_new:  14235\n"
     ]
    }
   ],
   "source": [
    "final_df['S'] = final_df['S'].replace('S', 1)\n",
    "count_R_old = df_old['label'].value_counts()['R']\n",
    "count_R_new = final_df['R'].value_counts()[1]\n",
    "count_S_old = df_old['label'].value_counts()['S']\n",
    "count_S_new = final_df['S'].value_counts()[1]\n",
    "# Print the count\n",
    "print(\"count_R_old: \",count_R_old, \"\\ncount_R_new: \", count_R_new, \"\\ncount_S_old: \",count_S_old, \"\\ncount_S_new: \", count_S_new)"
   ],
   "metadata": {
    "collapsed": false,
    "pycharm": {
     "name": "#%%\n"
    }
   }
  },
  {
   "cell_type": "code",
   "execution_count": 76,
   "outputs": [
    {
     "name": "stdout",
     "output_type": "stream",
     "text": [
      "211494\n"
     ]
    }
   ],
   "source": [
    "count_null_rows = len(final_df[(final_df['R'].isnull()) & (final_df['S'].isnull())])\n",
    "# Print the count\n",
    "print(count_null_rows)"
   ],
   "metadata": {
    "collapsed": false,
    "pycharm": {
     "name": "#%%\n"
    }
   }
  },
  {
   "cell_type": "code",
   "execution_count": 77,
   "outputs": [
    {
     "name": "stdout",
     "output_type": "stream",
     "text": [
      "52890\n"
     ]
    }
   ],
   "source": [
    "count_not_null_rows = len(final_df[(final_df['R'].notnull()) | (final_df['S'].notnull())])\n",
    "# Print the count\n",
    "print(count_not_null_rows)"
   ],
   "metadata": {
    "collapsed": false,
    "pycharm": {
     "name": "#%%\n"
    }
   }
  }
 ],
 "metadata": {
  "kernelspec": {
   "display_name": "Python 3",
   "language": "python",
   "name": "python3"
  },
  "language_info": {
   "codemirror_mode": {
    "name": "ipython",
    "version": 2
   },
   "file_extension": ".py",
   "mimetype": "text/x-python",
   "name": "python",
   "nbconvert_exporter": "python",
   "pygments_lexer": "ipython2",
   "version": "2.7.6"
  },
  "colab": {
   "provenance": [],
   "collapsed_sections": [
    "8t-09Ajqt14Z"
   ]
  }
 },
 "nbformat": 4,
 "nbformat_minor": 0
}