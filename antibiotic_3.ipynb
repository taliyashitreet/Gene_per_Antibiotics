{
 "cells": [
  {
   "cell_type": "code",
   "execution_count": 2,
   "metadata": {
    "collapsed": true,
    "pycharm": {
     "name": "#%%\n"
    }
   },
   "outputs": [],
   "source": [
    "import pandas as pd"
   ]
  },
  {
   "cell_type": "code",
   "execution_count": null,
   "outputs": [],
   "source": [],
   "metadata": {
    "collapsed": false,
    "pycharm": {
     "name": "#%%\n"
    }
   }
  },
  {
   "cell_type": "code",
   "execution_count": 22,
   "outputs": [],
   "source": [
    "# הכנסתי את כולם לתיקייה אז צריך לשנות את הpath\n",
    "df_ast_r = pd.read_csv(\"/Users/taliyas/PycharmProjects/FinalProject/new df/df_ast_r.csv\")\n",
    "df_ast_s = pd.read_csv(\"/Users/taliyas/PycharmProjects/FinalProject/new df/df_ast_s.csv\")\n",
    "df_gens = pd.read_csv(\"/Users/taliyas/PycharmProjects/FinalProject/new df/df_gens.csv\")\n",
    "df_index = pd.read_csv(\"/Users/taliyas/PycharmProjects/FinalProject/new df/df_index.csv\")\n",
    "df_origin = pd.read_csv(\"/Users/taliyas/PycharmProjects/FinalProject/isolates (1).csv\")\n",
    "# df_gens_anti_R = pd.read_csv(r\"C:\\Users\\PC\\PycharmProjects\\Antibiotics\\Antibiotics_final_project\\gzip_df_small.csv\")"
   ],
   "metadata": {
    "collapsed": false,
    "pycharm": {
     "name": "#%%\n"
    }
   }
  },
  {
   "cell_type": "markdown",
   "source": [
    "## df_index\n",
    "### כל חיידק מוגדר לפי קבוצה (ORGANISM GROUP) ולפי סוג ספציפי (strain)\n",
    "יש 31 קבוצות, ו 18249  תתי קבוצות\n",
    "\n",
    "#### הסבר האינדקסים:\n",
    "יש אינדקסים 0-20084, לפי הטבלה המקורית (DF_ORIGIN)</br>\n",
    "לפי האינדקס שמופיע בטבלאות האנטיביוטיקות ניתן לחפש בטבלת האינדקסים כדי למצוא את החיידק המדובר"
   ],
   "metadata": {
    "collapsed": false,
    "pycharm": {
     "name": "#%% md\n"
    }
   }
  },
  {
   "cell_type": "code",
   "execution_count": 9,
   "outputs": [
    {
     "data": {
      "text/plain": "       index           #Organism group                 Strain\n0          0     Aeromonas salmonicida              ECFood+05\n1          1               Cronobacter  USDA-ARS-USMARC-54664\n2          2  Corynebacterium striatum                    1.0\n3          3       Serratia marcescens               BIDMC 50\n4          4       Serratia marcescens               BIDMC 44\n...      ...                       ...                    ...\n18843  19034       Salmonella enterica             CVM-N15149\n18844  19035       Salmonella enterica            FSIS1605979\n18845  19036       Salmonella enterica            CVM N16S198\n18846  19037       Salmonella enterica           CVM N17S1225\n18847  19038       Salmonella enterica            FSIS1605894\n\n[18848 rows x 3 columns]",
      "text/html": "<div>\n<style scoped>\n    .dataframe tbody tr th:only-of-type {\n        vertical-align: middle;\n    }\n\n    .dataframe tbody tr th {\n        vertical-align: top;\n    }\n\n    .dataframe thead th {\n        text-align: right;\n    }\n</style>\n<table border=\"1\" class=\"dataframe\">\n  <thead>\n    <tr style=\"text-align: right;\">\n      <th></th>\n      <th>index</th>\n      <th>#Organism group</th>\n      <th>Strain</th>\n    </tr>\n  </thead>\n  <tbody>\n    <tr>\n      <th>0</th>\n      <td>0</td>\n      <td>Aeromonas salmonicida</td>\n      <td>ECFood+05</td>\n    </tr>\n    <tr>\n      <th>1</th>\n      <td>1</td>\n      <td>Cronobacter</td>\n      <td>USDA-ARS-USMARC-54664</td>\n    </tr>\n    <tr>\n      <th>2</th>\n      <td>2</td>\n      <td>Corynebacterium striatum</td>\n      <td>1.0</td>\n    </tr>\n    <tr>\n      <th>3</th>\n      <td>3</td>\n      <td>Serratia marcescens</td>\n      <td>BIDMC 50</td>\n    </tr>\n    <tr>\n      <th>4</th>\n      <td>4</td>\n      <td>Serratia marcescens</td>\n      <td>BIDMC 44</td>\n    </tr>\n    <tr>\n      <th>...</th>\n      <td>...</td>\n      <td>...</td>\n      <td>...</td>\n    </tr>\n    <tr>\n      <th>18843</th>\n      <td>19034</td>\n      <td>Salmonella enterica</td>\n      <td>CVM-N15149</td>\n    </tr>\n    <tr>\n      <th>18844</th>\n      <td>19035</td>\n      <td>Salmonella enterica</td>\n      <td>FSIS1605979</td>\n    </tr>\n    <tr>\n      <th>18845</th>\n      <td>19036</td>\n      <td>Salmonella enterica</td>\n      <td>CVM N16S198</td>\n    </tr>\n    <tr>\n      <th>18846</th>\n      <td>19037</td>\n      <td>Salmonella enterica</td>\n      <td>CVM N17S1225</td>\n    </tr>\n    <tr>\n      <th>18847</th>\n      <td>19038</td>\n      <td>Salmonella enterica</td>\n      <td>FSIS1605894</td>\n    </tr>\n  </tbody>\n</table>\n<p>18848 rows × 3 columns</p>\n</div>"
     },
     "execution_count": 9,
     "metadata": {},
     "output_type": "execute_result"
    }
   ],
   "source": [
    "df_index\n"
   ],
   "metadata": {
    "collapsed": false,
    "pycharm": {
     "name": "#%%\n"
    }
   }
  },
  {
   "cell_type": "markdown",
   "source": [
    "### create tables for index of organism group and AST (antibiotic) divide by S and R:\n",
    "### הטבלאות מחולקות לפי\n",
    "**df_s:** sensitive - לכל חיידק, האטיביוטיקה שרגיש אליה </br>\n",
    "**df_r:** resistn - לכל חיידק, האטיביוטיקה שעמיד אליה\n",
    "\n",
    "האינדקס הוא החיידק שרגיש/עמיד לאנטיביוטיקה"
   ],
   "metadata": {
    "collapsed": false,
    "pycharm": {
     "name": "#%% md\n"
    }
   }
  },
  {
   "cell_type": "code",
   "execution_count": 10,
   "outputs": [
    {
     "data": {
      "text/plain": "       index                   antibiotic\n0          0                  ceftriaxone\n1          1  amoxicillin-clavulanic acid\n2          1                   ampicillin\n3          1                 azithromycin\n4          1                    cefoxitin\n...      ...                          ...\n63542  19033                sulfisoxazole\n63543  19033                 tetracycline\n63544  19034                   ampicillin\n63545  19035                 streptomycin\n63546  19035                 tetracycline\n\n[63547 rows x 2 columns]",
      "text/html": "<div>\n<style scoped>\n    .dataframe tbody tr th:only-of-type {\n        vertical-align: middle;\n    }\n\n    .dataframe tbody tr th {\n        vertical-align: top;\n    }\n\n    .dataframe thead th {\n        text-align: right;\n    }\n</style>\n<table border=\"1\" class=\"dataframe\">\n  <thead>\n    <tr style=\"text-align: right;\">\n      <th></th>\n      <th>index</th>\n      <th>antibiotic</th>\n    </tr>\n  </thead>\n  <tbody>\n    <tr>\n      <th>0</th>\n      <td>0</td>\n      <td>ceftriaxone</td>\n    </tr>\n    <tr>\n      <th>1</th>\n      <td>1</td>\n      <td>amoxicillin-clavulanic acid</td>\n    </tr>\n    <tr>\n      <th>2</th>\n      <td>1</td>\n      <td>ampicillin</td>\n    </tr>\n    <tr>\n      <th>3</th>\n      <td>1</td>\n      <td>azithromycin</td>\n    </tr>\n    <tr>\n      <th>4</th>\n      <td>1</td>\n      <td>cefoxitin</td>\n    </tr>\n    <tr>\n      <th>...</th>\n      <td>...</td>\n      <td>...</td>\n    </tr>\n    <tr>\n      <th>63542</th>\n      <td>19033</td>\n      <td>sulfisoxazole</td>\n    </tr>\n    <tr>\n      <th>63543</th>\n      <td>19033</td>\n      <td>tetracycline</td>\n    </tr>\n    <tr>\n      <th>63544</th>\n      <td>19034</td>\n      <td>ampicillin</td>\n    </tr>\n    <tr>\n      <th>63545</th>\n      <td>19035</td>\n      <td>streptomycin</td>\n    </tr>\n    <tr>\n      <th>63546</th>\n      <td>19035</td>\n      <td>tetracycline</td>\n    </tr>\n  </tbody>\n</table>\n<p>63547 rows × 2 columns</p>\n</div>"
     },
     "execution_count": 10,
     "metadata": {},
     "output_type": "execute_result"
    }
   ],
   "source": [
    "df_ast_r"
   ],
   "metadata": {
    "collapsed": false,
    "pycharm": {
     "name": "#%%\n"
    }
   }
  },
  {
   "cell_type": "code",
   "execution_count": 11,
   "outputs": [
    {
     "data": {
      "text/plain": "        index                     antibiotic\n0           1                    ceftriaxone\n1           1                  ciprofloxacin\n2           1                     gentamicin\n3           1                 nalidixic acid\n4           1                   streptomycin\n...       ...                            ...\n191330  19038                 nalidixic acid\n191331  19038                   streptomycin\n191332  19038                  sulfisoxazole\n191333  19038                   tetracycline\n191334  19038  trimethoprim-sulfamethoxazole\n\n[191335 rows x 2 columns]",
      "text/html": "<div>\n<style scoped>\n    .dataframe tbody tr th:only-of-type {\n        vertical-align: middle;\n    }\n\n    .dataframe tbody tr th {\n        vertical-align: top;\n    }\n\n    .dataframe thead th {\n        text-align: right;\n    }\n</style>\n<table border=\"1\" class=\"dataframe\">\n  <thead>\n    <tr style=\"text-align: right;\">\n      <th></th>\n      <th>index</th>\n      <th>antibiotic</th>\n    </tr>\n  </thead>\n  <tbody>\n    <tr>\n      <th>0</th>\n      <td>1</td>\n      <td>ceftriaxone</td>\n    </tr>\n    <tr>\n      <th>1</th>\n      <td>1</td>\n      <td>ciprofloxacin</td>\n    </tr>\n    <tr>\n      <th>2</th>\n      <td>1</td>\n      <td>gentamicin</td>\n    </tr>\n    <tr>\n      <th>3</th>\n      <td>1</td>\n      <td>nalidixic acid</td>\n    </tr>\n    <tr>\n      <th>4</th>\n      <td>1</td>\n      <td>streptomycin</td>\n    </tr>\n    <tr>\n      <th>...</th>\n      <td>...</td>\n      <td>...</td>\n    </tr>\n    <tr>\n      <th>191330</th>\n      <td>19038</td>\n      <td>nalidixic acid</td>\n    </tr>\n    <tr>\n      <th>191331</th>\n      <td>19038</td>\n      <td>streptomycin</td>\n    </tr>\n    <tr>\n      <th>191332</th>\n      <td>19038</td>\n      <td>sulfisoxazole</td>\n    </tr>\n    <tr>\n      <th>191333</th>\n      <td>19038</td>\n      <td>tetracycline</td>\n    </tr>\n    <tr>\n      <th>191334</th>\n      <td>19038</td>\n      <td>trimethoprim-sulfamethoxazole</td>\n    </tr>\n  </tbody>\n</table>\n<p>191335 rows × 2 columns</p>\n</div>"
     },
     "execution_count": 11,
     "metadata": {},
     "output_type": "execute_result"
    }
   ],
   "source": [
    "df_ast_s"
   ],
   "metadata": {
    "collapsed": false,
    "pycharm": {
     "name": "#%%\n"
    }
   }
  },
  {
   "cell_type": "markdown",
   "source": [
    "#### דוגמה למציאת החיידק המתאים לפי אינדקס\n",
    "בדקתי בהשוואה ל CSV באופן ידני ויצא טוב"
   ],
   "metadata": {
    "collapsed": false,
    "pycharm": {
     "name": "#%% md\n"
    }
   }
  },
  {
   "cell_type": "code",
   "execution_count": 16,
   "outputs": [
    {
     "data": {
      "text/plain": "       index              antibiotic\n12185   1800                amikacin\n12186   1800               aztreonam\n12187   1800                cefepime\n12188   1800             ceftazidime\n12189   1800  ceftolozane-tazobactam\n12190   1800           ciprofloxacin\n12191   1800              gentamicin\n12192   1800                imipenem\n12193   1800            levofloxacin\n12194   1800               meropenem\n12195   1800              tobramycin",
      "text/html": "<div>\n<style scoped>\n    .dataframe tbody tr th:only-of-type {\n        vertical-align: middle;\n    }\n\n    .dataframe tbody tr th {\n        vertical-align: top;\n    }\n\n    .dataframe thead th {\n        text-align: right;\n    }\n</style>\n<table border=\"1\" class=\"dataframe\">\n  <thead>\n    <tr style=\"text-align: right;\">\n      <th></th>\n      <th>index</th>\n      <th>antibiotic</th>\n    </tr>\n  </thead>\n  <tbody>\n    <tr>\n      <th>12185</th>\n      <td>1800</td>\n      <td>amikacin</td>\n    </tr>\n    <tr>\n      <th>12186</th>\n      <td>1800</td>\n      <td>aztreonam</td>\n    </tr>\n    <tr>\n      <th>12187</th>\n      <td>1800</td>\n      <td>cefepime</td>\n    </tr>\n    <tr>\n      <th>12188</th>\n      <td>1800</td>\n      <td>ceftazidime</td>\n    </tr>\n    <tr>\n      <th>12189</th>\n      <td>1800</td>\n      <td>ceftolozane-tazobactam</td>\n    </tr>\n    <tr>\n      <th>12190</th>\n      <td>1800</td>\n      <td>ciprofloxacin</td>\n    </tr>\n    <tr>\n      <th>12191</th>\n      <td>1800</td>\n      <td>gentamicin</td>\n    </tr>\n    <tr>\n      <th>12192</th>\n      <td>1800</td>\n      <td>imipenem</td>\n    </tr>\n    <tr>\n      <th>12193</th>\n      <td>1800</td>\n      <td>levofloxacin</td>\n    </tr>\n    <tr>\n      <th>12194</th>\n      <td>1800</td>\n      <td>meropenem</td>\n    </tr>\n    <tr>\n      <th>12195</th>\n      <td>1800</td>\n      <td>tobramycin</td>\n    </tr>\n  </tbody>\n</table>\n</div>"
     },
     "execution_count": 16,
     "metadata": {},
     "output_type": "execute_result"
    }
   ],
   "source": [
    "df_ast_r.loc[df_ast_r['index'] == 1800]"
   ],
   "metadata": {
    "collapsed": false,
    "pycharm": {
     "name": "#%%\n"
    }
   }
  },
  {
   "cell_type": "code",
   "execution_count": 17,
   "outputs": [
    {
     "data": {
      "text/plain": "      index         #Organism group Strain\n1784   1800  Pseudomonas aeruginosa     21",
      "text/html": "<div>\n<style scoped>\n    .dataframe tbody tr th:only-of-type {\n        vertical-align: middle;\n    }\n\n    .dataframe tbody tr th {\n        vertical-align: top;\n    }\n\n    .dataframe thead th {\n        text-align: right;\n    }\n</style>\n<table border=\"1\" class=\"dataframe\">\n  <thead>\n    <tr style=\"text-align: right;\">\n      <th></th>\n      <th>index</th>\n      <th>#Organism group</th>\n      <th>Strain</th>\n    </tr>\n  </thead>\n  <tbody>\n    <tr>\n      <th>1784</th>\n      <td>1800</td>\n      <td>Pseudomonas aeruginosa</td>\n      <td>21</td>\n    </tr>\n  </tbody>\n</table>\n</div>"
     },
     "execution_count": 17,
     "metadata": {},
     "output_type": "execute_result"
    }
   ],
   "source": [
    "df_index.loc[df_index['index'] == 1800]"
   ],
   "metadata": {
    "collapsed": false,
    "pycharm": {
     "name": "#%%\n"
    }
   }
  },
  {
   "cell_type": "code",
   "execution_count": 18,
   "outputs": [
    {
     "data": {
      "text/plain": "      index             antibiotic\n9358   1800  ceftazidime-avibactam\n9359   1800               colistin",
      "text/html": "<div>\n<style scoped>\n    .dataframe tbody tr th:only-of-type {\n        vertical-align: middle;\n    }\n\n    .dataframe tbody tr th {\n        vertical-align: top;\n    }\n\n    .dataframe thead th {\n        text-align: right;\n    }\n</style>\n<table border=\"1\" class=\"dataframe\">\n  <thead>\n    <tr style=\"text-align: right;\">\n      <th></th>\n      <th>index</th>\n      <th>antibiotic</th>\n    </tr>\n  </thead>\n  <tbody>\n    <tr>\n      <th>9358</th>\n      <td>1800</td>\n      <td>ceftazidime-avibactam</td>\n    </tr>\n    <tr>\n      <th>9359</th>\n      <td>1800</td>\n      <td>colistin</td>\n    </tr>\n  </tbody>\n</table>\n</div>"
     },
     "execution_count": 18,
     "metadata": {},
     "output_type": "execute_result"
    }
   ],
   "source": [
    "df_ast_s.loc[df_ast_s['index'] == 1800]"
   ],
   "metadata": {
    "collapsed": false,
    "pycharm": {
     "name": "#%%\n"
    }
   }
  },
  {
   "cell_type": "code",
   "execution_count": 19,
   "outputs": [
    {
     "data": {
      "text/plain": "        index          gen\n0           0   aac(6')-Ia\n1           0        aadA1\n2           0         ampC\n3           0  ant(2'')-Ia\n4           0    blaOXA-10\n...       ...          ...\n104432  19036         mdsB\n104433  19037         mdsA\n104434  19037         mdsB\n104435  19038         mdsA\n104436  19038         mdsB\n\n[104437 rows x 2 columns]",
      "text/html": "<div>\n<style scoped>\n    .dataframe tbody tr th:only-of-type {\n        vertical-align: middle;\n    }\n\n    .dataframe tbody tr th {\n        vertical-align: top;\n    }\n\n    .dataframe thead th {\n        text-align: right;\n    }\n</style>\n<table border=\"1\" class=\"dataframe\">\n  <thead>\n    <tr style=\"text-align: right;\">\n      <th></th>\n      <th>index</th>\n      <th>gen</th>\n    </tr>\n  </thead>\n  <tbody>\n    <tr>\n      <th>0</th>\n      <td>0</td>\n      <td>aac(6')-Ia</td>\n    </tr>\n    <tr>\n      <th>1</th>\n      <td>0</td>\n      <td>aadA1</td>\n    </tr>\n    <tr>\n      <th>2</th>\n      <td>0</td>\n      <td>ampC</td>\n    </tr>\n    <tr>\n      <th>3</th>\n      <td>0</td>\n      <td>ant(2'')-Ia</td>\n    </tr>\n    <tr>\n      <th>4</th>\n      <td>0</td>\n      <td>blaOXA-10</td>\n    </tr>\n    <tr>\n      <th>...</th>\n      <td>...</td>\n      <td>...</td>\n    </tr>\n    <tr>\n      <th>104432</th>\n      <td>19036</td>\n      <td>mdsB</td>\n    </tr>\n    <tr>\n      <th>104433</th>\n      <td>19037</td>\n      <td>mdsA</td>\n    </tr>\n    <tr>\n      <th>104434</th>\n      <td>19037</td>\n      <td>mdsB</td>\n    </tr>\n    <tr>\n      <th>104435</th>\n      <td>19038</td>\n      <td>mdsA</td>\n    </tr>\n    <tr>\n      <th>104436</th>\n      <td>19038</td>\n      <td>mdsB</td>\n    </tr>\n  </tbody>\n</table>\n<p>104437 rows × 2 columns</p>\n</div>"
     },
     "execution_count": 19,
     "metadata": {},
     "output_type": "execute_result"
    }
   ],
   "source": [
    "df_gens"
   ],
   "metadata": {
    "collapsed": false,
    "pycharm": {
     "name": "#%%\n"
    }
   }
  },
  {
   "cell_type": "code",
   "execution_count": 20,
   "outputs": [
    {
     "data": {
      "text/plain": "       index          gen\n15688   1800   aac(6')-Ib\n15689   1800  aph(3'')-Ib\n15690   1800  aph(3')-IIb\n15691   1800    aph(6)-Id\n15692   1800     blaGES-9\n15693   1800   blaOXA-395\n15694   1800   blaPDC-19a\n15695   1800        catB7\n15696   1800         catB\n15697   1800         crpP\n15698   1800        dfrA5\n15699   1800       ere(A)\n15700   1800        floR2\n15701   1800         floR\n15702   1800         fosA\n15703   1800         mexA\n15704   1800         mexE\n15705   1800         mexX\n15706   1800        rmtF2\n15707   1800         sul1\n15708   1800       tet(G)",
      "text/html": "<div>\n<style scoped>\n    .dataframe tbody tr th:only-of-type {\n        vertical-align: middle;\n    }\n\n    .dataframe tbody tr th {\n        vertical-align: top;\n    }\n\n    .dataframe thead th {\n        text-align: right;\n    }\n</style>\n<table border=\"1\" class=\"dataframe\">\n  <thead>\n    <tr style=\"text-align: right;\">\n      <th></th>\n      <th>index</th>\n      <th>gen</th>\n    </tr>\n  </thead>\n  <tbody>\n    <tr>\n      <th>15688</th>\n      <td>1800</td>\n      <td>aac(6')-Ib</td>\n    </tr>\n    <tr>\n      <th>15689</th>\n      <td>1800</td>\n      <td>aph(3'')-Ib</td>\n    </tr>\n    <tr>\n      <th>15690</th>\n      <td>1800</td>\n      <td>aph(3')-IIb</td>\n    </tr>\n    <tr>\n      <th>15691</th>\n      <td>1800</td>\n      <td>aph(6)-Id</td>\n    </tr>\n    <tr>\n      <th>15692</th>\n      <td>1800</td>\n      <td>blaGES-9</td>\n    </tr>\n    <tr>\n      <th>15693</th>\n      <td>1800</td>\n      <td>blaOXA-395</td>\n    </tr>\n    <tr>\n      <th>15694</th>\n      <td>1800</td>\n      <td>blaPDC-19a</td>\n    </tr>\n    <tr>\n      <th>15695</th>\n      <td>1800</td>\n      <td>catB7</td>\n    </tr>\n    <tr>\n      <th>15696</th>\n      <td>1800</td>\n      <td>catB</td>\n    </tr>\n    <tr>\n      <th>15697</th>\n      <td>1800</td>\n      <td>crpP</td>\n    </tr>\n    <tr>\n      <th>15698</th>\n      <td>1800</td>\n      <td>dfrA5</td>\n    </tr>\n    <tr>\n      <th>15699</th>\n      <td>1800</td>\n      <td>ere(A)</td>\n    </tr>\n    <tr>\n      <th>15700</th>\n      <td>1800</td>\n      <td>floR2</td>\n    </tr>\n    <tr>\n      <th>15701</th>\n      <td>1800</td>\n      <td>floR</td>\n    </tr>\n    <tr>\n      <th>15702</th>\n      <td>1800</td>\n      <td>fosA</td>\n    </tr>\n    <tr>\n      <th>15703</th>\n      <td>1800</td>\n      <td>mexA</td>\n    </tr>\n    <tr>\n      <th>15704</th>\n      <td>1800</td>\n      <td>mexE</td>\n    </tr>\n    <tr>\n      <th>15705</th>\n      <td>1800</td>\n      <td>mexX</td>\n    </tr>\n    <tr>\n      <th>15706</th>\n      <td>1800</td>\n      <td>rmtF2</td>\n    </tr>\n    <tr>\n      <th>15707</th>\n      <td>1800</td>\n      <td>sul1</td>\n    </tr>\n    <tr>\n      <th>15708</th>\n      <td>1800</td>\n      <td>tet(G)</td>\n    </tr>\n  </tbody>\n</table>\n</div>"
     },
     "execution_count": 20,
     "metadata": {},
     "output_type": "execute_result"
    }
   ],
   "source": [
    "df_gens.loc[df_gens['index'] == 1800]"
   ],
   "metadata": {
    "collapsed": false,
    "pycharm": {
     "name": "#%%\n"
    }
   }
  },
  {
   "cell_type": "code",
   "execution_count": 20,
   "outputs": [],
   "source": [],
   "metadata": {
    "collapsed": false,
    "pycharm": {
     "name": "#%%\n"
    }
   }
  },
  {
   "cell_type": "markdown",
   "source": [
    "***********************************************"
   ],
   "metadata": {
    "collapsed": false,
    "pycharm": {
     "name": "#%% md\n"
    }
   }
  },
  {
   "cell_type": "code",
   "execution_count": 10,
   "outputs": [
    {
     "data": {
      "text/plain": "   prevalence_sequence_id  model_id     aro_term aro_accession  \\\n0                       1      1372  ANT(2'')-Ia   ARO:3000230   \n1                       1      1372  ANT(2'')-Ia   ARO:3000230   \n2                       1      1372  ANT(2'')-Ia   ARO:3000230   \n3                       1      1372  ANT(2'')-Ia   ARO:3000230   \n4                       1      1372  ANT(2'')-Ia   ARO:3000230   \n5                       1      1372  ANT(2'')-Ia   ARO:3000230   \n6                       1      1372  ANT(2'')-Ia   ARO:3000230   \n7                       1      1372  ANT(2'')-Ia   ARO:3000230   \n8                       1      1372  ANT(2'')-Ia   ARO:3000230   \n9                       1      1372  ANT(2'')-Ia   ARO:3000230   \n\n         detection_model                species_name ncbi_accession  \\\n0  protein homolog model  Achromobacter xylosoxidans  NZ_CP014066.1   \n1  protein homolog model  Achromobacter xylosoxidans       NZ_JACBW   \n2  protein homolog model               Acinetobacter  NZ_CP035045.1   \n3  protein homolog model               Acinetobacter  NZ_CP035051.1   \n4  protein homolog model               Acinetobacter  NZ_CP039341.1   \n5  protein homolog model               Acinetobacter  NZ_CP039343.1   \n6  protein homolog model               Acinetobacter  NZ_CP039930.1   \n7  protein homolog model     Acinetobacter baumannii    NC_010410.1   \n8  protein homolog model     Acinetobacter baumannii      NZ_AEOZ01   \n9  protein homolog model     Acinetobacter baumannii      NZ_AFDL01   \n\n         data_type rgi_criteria  percent_identity  bitscore amr_gene_family  \\\n0     ncbi_plasmid      Perfect             100.0     374.8        ANT(2'')   \n1      ncbi_contig      Perfect             100.0     374.4        ANT(2'')   \n2          ncbi_gi      Perfect             100.0     374.4        ANT(2'')   \n3          ncbi_gi      Perfect             100.0     374.4        ANT(2'')   \n4          ncbi_gi      Perfect             100.0     374.8        ANT(2'')   \n5          ncbi_gi      Perfect             100.0     374.8        ANT(2'')   \n6          ncbi_gi      Perfect             100.0     374.8        ANT(2'')   \n7  ncbi_chromosome      Perfect             100.0     374.8        ANT(2'')   \n8      ncbi_contig      Perfect             100.0     374.8        ANT(2'')   \n9      ncbi_contig      Perfect             100.0     374.4        ANT(2'')   \n\n      resistance_mechanism                 drug_class  \n0  antibiotic inactivation  aminoglycoside antibiotic  \n1  antibiotic inactivation  aminoglycoside antibiotic  \n2  antibiotic inactivation  aminoglycoside antibiotic  \n3  antibiotic inactivation  aminoglycoside antibiotic  \n4  antibiotic inactivation  aminoglycoside antibiotic  \n5  antibiotic inactivation  aminoglycoside antibiotic  \n6  antibiotic inactivation  aminoglycoside antibiotic  \n7  antibiotic inactivation  aminoglycoside antibiotic  \n8  antibiotic inactivation  aminoglycoside antibiotic  \n9  antibiotic inactivation  aminoglycoside antibiotic  ",
      "text/html": "<div>\n<style scoped>\n    .dataframe tbody tr th:only-of-type {\n        vertical-align: middle;\n    }\n\n    .dataframe tbody tr th {\n        vertical-align: top;\n    }\n\n    .dataframe thead th {\n        text-align: right;\n    }\n</style>\n<table border=\"1\" class=\"dataframe\">\n  <thead>\n    <tr style=\"text-align: right;\">\n      <th></th>\n      <th>prevalence_sequence_id</th>\n      <th>model_id</th>\n      <th>aro_term</th>\n      <th>aro_accession</th>\n      <th>detection_model</th>\n      <th>species_name</th>\n      <th>ncbi_accession</th>\n      <th>data_type</th>\n      <th>rgi_criteria</th>\n      <th>percent_identity</th>\n      <th>bitscore</th>\n      <th>amr_gene_family</th>\n      <th>resistance_mechanism</th>\n      <th>drug_class</th>\n    </tr>\n  </thead>\n  <tbody>\n    <tr>\n      <th>0</th>\n      <td>1</td>\n      <td>1372</td>\n      <td>ANT(2'')-Ia</td>\n      <td>ARO:3000230</td>\n      <td>protein homolog model</td>\n      <td>Achromobacter xylosoxidans</td>\n      <td>NZ_CP014066.1</td>\n      <td>ncbi_plasmid</td>\n      <td>Perfect</td>\n      <td>100.0</td>\n      <td>374.8</td>\n      <td>ANT(2'')</td>\n      <td>antibiotic inactivation</td>\n      <td>aminoglycoside antibiotic</td>\n    </tr>\n    <tr>\n      <th>1</th>\n      <td>1</td>\n      <td>1372</td>\n      <td>ANT(2'')-Ia</td>\n      <td>ARO:3000230</td>\n      <td>protein homolog model</td>\n      <td>Achromobacter xylosoxidans</td>\n      <td>NZ_JACBW</td>\n      <td>ncbi_contig</td>\n      <td>Perfect</td>\n      <td>100.0</td>\n      <td>374.4</td>\n      <td>ANT(2'')</td>\n      <td>antibiotic inactivation</td>\n      <td>aminoglycoside antibiotic</td>\n    </tr>\n    <tr>\n      <th>2</th>\n      <td>1</td>\n      <td>1372</td>\n      <td>ANT(2'')-Ia</td>\n      <td>ARO:3000230</td>\n      <td>protein homolog model</td>\n      <td>Acinetobacter</td>\n      <td>NZ_CP035045.1</td>\n      <td>ncbi_gi</td>\n      <td>Perfect</td>\n      <td>100.0</td>\n      <td>374.4</td>\n      <td>ANT(2'')</td>\n      <td>antibiotic inactivation</td>\n      <td>aminoglycoside antibiotic</td>\n    </tr>\n    <tr>\n      <th>3</th>\n      <td>1</td>\n      <td>1372</td>\n      <td>ANT(2'')-Ia</td>\n      <td>ARO:3000230</td>\n      <td>protein homolog model</td>\n      <td>Acinetobacter</td>\n      <td>NZ_CP035051.1</td>\n      <td>ncbi_gi</td>\n      <td>Perfect</td>\n      <td>100.0</td>\n      <td>374.4</td>\n      <td>ANT(2'')</td>\n      <td>antibiotic inactivation</td>\n      <td>aminoglycoside antibiotic</td>\n    </tr>\n    <tr>\n      <th>4</th>\n      <td>1</td>\n      <td>1372</td>\n      <td>ANT(2'')-Ia</td>\n      <td>ARO:3000230</td>\n      <td>protein homolog model</td>\n      <td>Acinetobacter</td>\n      <td>NZ_CP039341.1</td>\n      <td>ncbi_gi</td>\n      <td>Perfect</td>\n      <td>100.0</td>\n      <td>374.8</td>\n      <td>ANT(2'')</td>\n      <td>antibiotic inactivation</td>\n      <td>aminoglycoside antibiotic</td>\n    </tr>\n    <tr>\n      <th>5</th>\n      <td>1</td>\n      <td>1372</td>\n      <td>ANT(2'')-Ia</td>\n      <td>ARO:3000230</td>\n      <td>protein homolog model</td>\n      <td>Acinetobacter</td>\n      <td>NZ_CP039343.1</td>\n      <td>ncbi_gi</td>\n      <td>Perfect</td>\n      <td>100.0</td>\n      <td>374.8</td>\n      <td>ANT(2'')</td>\n      <td>antibiotic inactivation</td>\n      <td>aminoglycoside antibiotic</td>\n    </tr>\n    <tr>\n      <th>6</th>\n      <td>1</td>\n      <td>1372</td>\n      <td>ANT(2'')-Ia</td>\n      <td>ARO:3000230</td>\n      <td>protein homolog model</td>\n      <td>Acinetobacter</td>\n      <td>NZ_CP039930.1</td>\n      <td>ncbi_gi</td>\n      <td>Perfect</td>\n      <td>100.0</td>\n      <td>374.8</td>\n      <td>ANT(2'')</td>\n      <td>antibiotic inactivation</td>\n      <td>aminoglycoside antibiotic</td>\n    </tr>\n    <tr>\n      <th>7</th>\n      <td>1</td>\n      <td>1372</td>\n      <td>ANT(2'')-Ia</td>\n      <td>ARO:3000230</td>\n      <td>protein homolog model</td>\n      <td>Acinetobacter baumannii</td>\n      <td>NC_010410.1</td>\n      <td>ncbi_chromosome</td>\n      <td>Perfect</td>\n      <td>100.0</td>\n      <td>374.8</td>\n      <td>ANT(2'')</td>\n      <td>antibiotic inactivation</td>\n      <td>aminoglycoside antibiotic</td>\n    </tr>\n    <tr>\n      <th>8</th>\n      <td>1</td>\n      <td>1372</td>\n      <td>ANT(2'')-Ia</td>\n      <td>ARO:3000230</td>\n      <td>protein homolog model</td>\n      <td>Acinetobacter baumannii</td>\n      <td>NZ_AEOZ01</td>\n      <td>ncbi_contig</td>\n      <td>Perfect</td>\n      <td>100.0</td>\n      <td>374.8</td>\n      <td>ANT(2'')</td>\n      <td>antibiotic inactivation</td>\n      <td>aminoglycoside antibiotic</td>\n    </tr>\n    <tr>\n      <th>9</th>\n      <td>1</td>\n      <td>1372</td>\n      <td>ANT(2'')-Ia</td>\n      <td>ARO:3000230</td>\n      <td>protein homolog model</td>\n      <td>Acinetobacter baumannii</td>\n      <td>NZ_AFDL01</td>\n      <td>ncbi_contig</td>\n      <td>Perfect</td>\n      <td>100.0</td>\n      <td>374.4</td>\n      <td>ANT(2'')</td>\n      <td>antibiotic inactivation</td>\n      <td>aminoglycoside antibiotic</td>\n    </tr>\n  </tbody>\n</table>\n</div>"
     },
     "execution_count": 10,
     "metadata": {},
     "output_type": "execute_result"
    }
   ],
   "source": [
    "gzip_df_small = pd.read_csv(\"/Users/taliyas/PycharmProjects/FinalProject/index-for-model-sequences.txt.gz\", compression='gzip',\n",
    "                                 header=0, sep='\\t', quotechar='\"')\n",
    "gzip_df_small.head(10)"
   ],
   "metadata": {
    "collapsed": false,
    "pycharm": {
     "name": "#%%\n"
    }
   }
  },
  {
   "cell_type": "code",
   "execution_count": 12,
   "outputs": [
    {
     "data": {
      "text/plain": "(2920586, 14)"
     },
     "execution_count": 12,
     "metadata": {},
     "output_type": "execute_result"
    }
   ],
   "source": [
    "df_gens_anti_R = gzip_df_small\n",
    "df_gens_anti_R.to_csv('df_gens_anti_R.csv', index=False)\n",
    "\n",
    "df_gens_anti_R.shape"
   ],
   "metadata": {
    "collapsed": false,
    "pycharm": {
     "name": "#%%\n"
    }
   }
  },
  {
   "cell_type": "code",
   "execution_count": null,
   "outputs": [],
   "source": [],
   "metadata": {
    "collapsed": false,
    "pycharm": {
     "name": "#%%\n"
    }
   }
  },
  {
   "cell_type": "markdown",
   "source": [
    "בעיה: בגלל שמחקנו את הנאלים בהתחלה, חסרים אינדקסים (רק בטבלת הגנים יש הכל, כי אין נאל בAMR אבל באינדקסים מחקנו דופליקיט וגם בAST מחקנו את כל הנאלים"
   ],
   "metadata": {
    "collapsed": false,
    "pycharm": {
     "name": "#%% md\n"
    }
   }
  },
  {
   "cell_type": "code",
   "execution_count": 28,
   "outputs": [
    {
     "data": {
      "text/plain": "     index   gen\n330     38  tetA",
      "text/html": "<div>\n<style scoped>\n    .dataframe tbody tr th:only-of-type {\n        vertical-align: middle;\n    }\n\n    .dataframe tbody tr th {\n        vertical-align: top;\n    }\n\n    .dataframe thead th {\n        text-align: right;\n    }\n</style>\n<table border=\"1\" class=\"dataframe\">\n  <thead>\n    <tr style=\"text-align: right;\">\n      <th></th>\n      <th>index</th>\n      <th>gen</th>\n    </tr>\n  </thead>\n  <tbody>\n    <tr>\n      <th>330</th>\n      <td>38</td>\n      <td>tetA</td>\n    </tr>\n  </tbody>\n</table>\n</div>"
     },
     "execution_count": 28,
     "metadata": {},
     "output_type": "execute_result"
    }
   ],
   "source": [
    "df_gens.loc[df_gens[\"gen\"] == \"tetA\"]"
   ],
   "metadata": {
    "collapsed": false,
    "pycharm": {
     "name": "#%%\n"
    }
   }
  },
  {
   "cell_type": "code",
   "execution_count": 29,
   "outputs": [
    {
     "data": {
      "text/plain": "     index #Organism group  Strain\n205    220       Neisseria  SW0005",
      "text/html": "<div>\n<style scoped>\n    .dataframe tbody tr th:only-of-type {\n        vertical-align: middle;\n    }\n\n    .dataframe tbody tr th {\n        vertical-align: top;\n    }\n\n    .dataframe thead th {\n        text-align: right;\n    }\n</style>\n<table border=\"1\" class=\"dataframe\">\n  <thead>\n    <tr style=\"text-align: right;\">\n      <th></th>\n      <th>index</th>\n      <th>#Organism group</th>\n      <th>Strain</th>\n    </tr>\n  </thead>\n  <tbody>\n    <tr>\n      <th>205</th>\n      <td>220</td>\n      <td>Neisseria</td>\n      <td>SW0005</td>\n    </tr>\n  </tbody>\n</table>\n</div>"
     },
     "execution_count": 29,
     "metadata": {},
     "output_type": "execute_result"
    }
   ],
   "source": [
    "df_index.loc[df_index[\"index\"] == 220]"
   ],
   "metadata": {
    "collapsed": false,
    "pycharm": {
     "name": "#%%\n"
    }
   }
  },
  {
   "cell_type": "code",
   "execution_count": 30,
   "outputs": [],
   "source": [
    "df_id = df_origin.reset_index()"
   ],
   "metadata": {
    "collapsed": false,
    "pycharm": {
     "name": "#%%\n"
    }
   }
  },
  {
   "cell_type": "code",
   "execution_count": 31,
   "outputs": [
    {
     "data": {
      "text/plain": "    index           #Organism group  \\\n2       2  Corynebacterium striatum   \n62     62  Corynebacterium striatum   \n63     63  Corynebacterium striatum   \n\n                                        AMR genotypes  \\\n2   aac(3)-XI=COMPLETE,erm(X)=COMPLETE,tet(W)=COMP...   \n62  aac(3)-XI=COMPLETE,aph(3'')-Ib=COMPLETE,aph(3'...   \n63  aac(3)-XI=COMPLETE,erm(X)=COMPLETE,tet(W)=COMP...   \n\n                                       AST phenotypes Strain  \n2   erythromycin=R,gentamicin=R,penicillin=R,vanco...    NaN  \n62  erythromycin=R,gentamicin=R,penicillin=R,vanco...    NaN  \n63  clindamycin=R,erythromycin=R,gentamicin=S,line...    NaN  ",
      "text/html": "<div>\n<style scoped>\n    .dataframe tbody tr th:only-of-type {\n        vertical-align: middle;\n    }\n\n    .dataframe tbody tr th {\n        vertical-align: top;\n    }\n\n    .dataframe thead th {\n        text-align: right;\n    }\n</style>\n<table border=\"1\" class=\"dataframe\">\n  <thead>\n    <tr style=\"text-align: right;\">\n      <th></th>\n      <th>index</th>\n      <th>#Organism group</th>\n      <th>AMR genotypes</th>\n      <th>AST phenotypes</th>\n      <th>Strain</th>\n    </tr>\n  </thead>\n  <tbody>\n    <tr>\n      <th>2</th>\n      <td>2</td>\n      <td>Corynebacterium striatum</td>\n      <td>aac(3)-XI=COMPLETE,erm(X)=COMPLETE,tet(W)=COMP...</td>\n      <td>erythromycin=R,gentamicin=R,penicillin=R,vanco...</td>\n      <td>NaN</td>\n    </tr>\n    <tr>\n      <th>62</th>\n      <td>62</td>\n      <td>Corynebacterium striatum</td>\n      <td>aac(3)-XI=COMPLETE,aph(3'')-Ib=COMPLETE,aph(3'...</td>\n      <td>erythromycin=R,gentamicin=R,penicillin=R,vanco...</td>\n      <td>NaN</td>\n    </tr>\n    <tr>\n      <th>63</th>\n      <td>63</td>\n      <td>Corynebacterium striatum</td>\n      <td>aac(3)-XI=COMPLETE,erm(X)=COMPLETE,tet(W)=COMP...</td>\n      <td>clindamycin=R,erythromycin=R,gentamicin=S,line...</td>\n      <td>NaN</td>\n    </tr>\n  </tbody>\n</table>\n</div>"
     },
     "execution_count": 31,
     "metadata": {},
     "output_type": "execute_result"
    }
   ],
   "source": [
    "df_id.loc[df_id[\"#Organism group\"] == \"Corynebacterium striatum\"]"
   ],
   "metadata": {
    "collapsed": false,
    "pycharm": {
     "name": "#%%\n"
    }
   }
  },
  {
   "cell_type": "markdown",
   "source": [
    "*******************************************"
   ],
   "metadata": {
    "collapsed": false,
    "pycharm": {
     "name": "#%% md\n"
    }
   }
  },
  {
   "cell_type": "code",
   "execution_count": 48,
   "outputs": [],
   "source": [
    "# Drop duplicates\n",
    "df_gens_anti_R = df_gens_anti_R.drop_duplicates(['amr_gene_family', 'aro_term'])\n",
    "\n",
    "# Create new DataFrame\n",
    "new_df = pd.DataFrame()\n",
    "new_df['family gene'] = df_gens_anti_R['amr_gene_family']\n",
    "new_df['gene'] = df_gens_anti_R['aro_term']\n",
    "new_df = new_df.sort_values('family gene')\n",
    "# Assuming 'gene' is the column of interest in df_gens\n",
    "family_gene_df = pd.merge(new_df, df_gens, left_on='gene', right_on='gen', how='inner')\n",
    "\n",
    "# Drop the extra columns coming from df_gens\n",
    "family_gene_df = family_gene_df[new_df.columns.tolist()]\n"
   ],
   "metadata": {
    "collapsed": false,
    "pycharm": {
     "name": "#%%\n"
    }
   }
  },
  {
   "cell_type": "code",
   "execution_count": 52,
   "outputs": [
    {
     "data": {
      "text/plain": "96"
     },
     "execution_count": 52,
     "metadata": {},
     "output_type": "execute_result"
    }
   ],
   "source": [
    "antibiotics_r = df_ast_r['antibiotic'].tolist()\n",
    "antibiotics_s = df_ast_s['antibiotic'].tolist()\n",
    "\n",
    "# Convert lists to sets to remove duplicates\n",
    "antibiotics_r_set = set(antibiotics_r)\n",
    "antibiotics_s_set = set(antibiotics_s)\n",
    "\n",
    "# Join the sets together\n",
    "all_antibiotics_set = antibiotics_r_set.union(antibiotics_s_set)\n",
    "\n",
    "# Convert back to list\n",
    "all_antibiotics = list(all_antibiotics_set)\n",
    "\n",
    "len(all_antibiotics)\n"
   ],
   "metadata": {
    "collapsed": false,
    "pycharm": {
     "name": "#%%\n"
    }
   }
  },
  {
   "cell_type": "code",
   "execution_count": 49,
   "outputs": [
    {
     "data": {
      "text/plain": "                                             family gene    gene\n0                     16S rRNA methyltransferase (G1405)    rmtC\n1                     16S rRNA methyltransferase (G1405)    rmtC\n2                     16S rRNA methyltransferase (G1405)    rmtC\n3                     16S rRNA methyltransferase (G1405)    rmtC\n4                     16S rRNA methyltransferase (G1405)    rmtC\n...                                                  ...     ...\n49154  trimethoprim resistant dihydrofolate reductase...  dfrA27\n49155  trimethoprim resistant dihydrofolate reductase...  dfrA27\n49156  trimethoprim resistant dihydrofolate reductase...    dfrI\n49157  trimethoprim resistant dihydrofolate reductase...    dfrI\n49158  trimethoprim resistant dihydrofolate reductase...    dfrI\n\n[49159 rows x 2 columns]",
      "text/html": "<div>\n<style scoped>\n    .dataframe tbody tr th:only-of-type {\n        vertical-align: middle;\n    }\n\n    .dataframe tbody tr th {\n        vertical-align: top;\n    }\n\n    .dataframe thead th {\n        text-align: right;\n    }\n</style>\n<table border=\"1\" class=\"dataframe\">\n  <thead>\n    <tr style=\"text-align: right;\">\n      <th></th>\n      <th>family gene</th>\n      <th>gene</th>\n    </tr>\n  </thead>\n  <tbody>\n    <tr>\n      <th>0</th>\n      <td>16S rRNA methyltransferase (G1405)</td>\n      <td>rmtC</td>\n    </tr>\n    <tr>\n      <th>1</th>\n      <td>16S rRNA methyltransferase (G1405)</td>\n      <td>rmtC</td>\n    </tr>\n    <tr>\n      <th>2</th>\n      <td>16S rRNA methyltransferase (G1405)</td>\n      <td>rmtC</td>\n    </tr>\n    <tr>\n      <th>3</th>\n      <td>16S rRNA methyltransferase (G1405)</td>\n      <td>rmtC</td>\n    </tr>\n    <tr>\n      <th>4</th>\n      <td>16S rRNA methyltransferase (G1405)</td>\n      <td>rmtC</td>\n    </tr>\n    <tr>\n      <th>...</th>\n      <td>...</td>\n      <td>...</td>\n    </tr>\n    <tr>\n      <th>49154</th>\n      <td>trimethoprim resistant dihydrofolate reductase...</td>\n      <td>dfrA27</td>\n    </tr>\n    <tr>\n      <th>49155</th>\n      <td>trimethoprim resistant dihydrofolate reductase...</td>\n      <td>dfrA27</td>\n    </tr>\n    <tr>\n      <th>49156</th>\n      <td>trimethoprim resistant dihydrofolate reductase...</td>\n      <td>dfrI</td>\n    </tr>\n    <tr>\n      <th>49157</th>\n      <td>trimethoprim resistant dihydrofolate reductase...</td>\n      <td>dfrI</td>\n    </tr>\n    <tr>\n      <th>49158</th>\n      <td>trimethoprim resistant dihydrofolate reductase...</td>\n      <td>dfrI</td>\n    </tr>\n  </tbody>\n</table>\n<p>49159 rows × 2 columns</p>\n</div>"
     },
     "execution_count": 49,
     "metadata": {},
     "output_type": "execute_result"
    }
   ],
   "source": [
    "family_gene_df"
   ],
   "metadata": {
    "collapsed": false,
    "pycharm": {
     "name": "#%%\n"
    }
   }
  },
  {
   "cell_type": "code",
   "execution_count": 53,
   "outputs": [],
   "source": [
    "import numpy as np\n",
    "for antibiotic in all_antibiotics:\n",
    "    family_gene_df[antibiotic] = np.nan\n"
   ],
   "metadata": {
    "collapsed": false,
    "pycharm": {
     "name": "#%%\n"
    }
   }
  },
  {
   "cell_type": "code",
   "execution_count": 54,
   "outputs": [
    {
     "data": {
      "text/plain": "                                             family gene    gene  ceftriaxone  \\\n0                     16S rRNA methyltransferase (G1405)    rmtC          NaN   \n1                     16S rRNA methyltransferase (G1405)    rmtC          NaN   \n2                     16S rRNA methyltransferase (G1405)    rmtC          NaN   \n3                     16S rRNA methyltransferase (G1405)    rmtC          NaN   \n4                     16S rRNA methyltransferase (G1405)    rmtC          NaN   \n...                                                  ...     ...          ...   \n49154  trimethoprim resistant dihydrofolate reductase...  dfrA27          NaN   \n49155  trimethoprim resistant dihydrofolate reductase...  dfrA27          NaN   \n49156  trimethoprim resistant dihydrofolate reductase...    dfrI          NaN   \n49157  trimethoprim resistant dihydrofolate reductase...    dfrI          NaN   \n49158  trimethoprim resistant dihydrofolate reductase...    dfrI          NaN   \n\n       amoxicillin-clavulanic acid  ampicillin  azithromycin  cefoxitin  \\\n0                              NaN         NaN           NaN        NaN   \n1                              NaN         NaN           NaN        NaN   \n2                              NaN         NaN           NaN        NaN   \n3                              NaN         NaN           NaN        NaN   \n4                              NaN         NaN           NaN        NaN   \n...                            ...         ...           ...        ...   \n49154                          NaN         NaN           NaN        NaN   \n49155                          NaN         NaN           NaN        NaN   \n49156                          NaN         NaN           NaN        NaN   \n49157                          NaN         NaN           NaN        NaN   \n49158                          NaN         NaN           NaN        NaN   \n\n       chloramphenicol  tetracycline  erythromycin  ...  cefalotin  \\\n0                  NaN           NaN           NaN  ...        NaN   \n1                  NaN           NaN           NaN  ...        NaN   \n2                  NaN           NaN           NaN  ...        NaN   \n3                  NaN           NaN           NaN  ...        NaN   \n4                  NaN           NaN           NaN  ...        NaN   \n...                ...           ...           ...  ...        ...   \n49154              NaN           NaN           NaN  ...        NaN   \n49155              NaN           NaN           NaN  ...        NaN   \n49156              NaN           NaN           NaN  ...        NaN   \n49157              NaN           NaN           NaN  ...        NaN   \n49158              NaN           NaN           NaN  ...        NaN   \n\n       sulfonamide  pefloxacin  eravacycline  spectinomycin  florfenicol  \\\n0              NaN         NaN           NaN            NaN          NaN   \n1              NaN         NaN           NaN            NaN          NaN   \n2              NaN         NaN           NaN            NaN          NaN   \n3              NaN         NaN           NaN            NaN          NaN   \n4              NaN         NaN           NaN            NaN          NaN   \n...            ...         ...           ...            ...          ...   \n49154          NaN         NaN           NaN            NaN          NaN   \n49155          NaN         NaN           NaN            NaN          NaN   \n49156          NaN         NaN           NaN            NaN          NaN   \n49157          NaN         NaN           NaN            NaN          NaN   \n49158          NaN         NaN           NaN            NaN          NaN   \n\n       fosfomycin-glucose-6-phosphate  synercid  metronidazole  fusidic acid  \n0                                 NaN       NaN            NaN           NaN  \n1                                 NaN       NaN            NaN           NaN  \n2                                 NaN       NaN            NaN           NaN  \n3                                 NaN       NaN            NaN           NaN  \n4                                 NaN       NaN            NaN           NaN  \n...                               ...       ...            ...           ...  \n49154                             NaN       NaN            NaN           NaN  \n49155                             NaN       NaN            NaN           NaN  \n49156                             NaN       NaN            NaN           NaN  \n49157                             NaN       NaN            NaN           NaN  \n49158                             NaN       NaN            NaN           NaN  \n\n[49159 rows x 98 columns]",
      "text/html": "<div>\n<style scoped>\n    .dataframe tbody tr th:only-of-type {\n        vertical-align: middle;\n    }\n\n    .dataframe tbody tr th {\n        vertical-align: top;\n    }\n\n    .dataframe thead th {\n        text-align: right;\n    }\n</style>\n<table border=\"1\" class=\"dataframe\">\n  <thead>\n    <tr style=\"text-align: right;\">\n      <th></th>\n      <th>family gene</th>\n      <th>gene</th>\n      <th>ceftriaxone</th>\n      <th>amoxicillin-clavulanic acid</th>\n      <th>ampicillin</th>\n      <th>azithromycin</th>\n      <th>cefoxitin</th>\n      <th>chloramphenicol</th>\n      <th>tetracycline</th>\n      <th>erythromycin</th>\n      <th>...</th>\n      <th>cefalotin</th>\n      <th>sulfonamide</th>\n      <th>pefloxacin</th>\n      <th>eravacycline</th>\n      <th>spectinomycin</th>\n      <th>florfenicol</th>\n      <th>fosfomycin-glucose-6-phosphate</th>\n      <th>synercid</th>\n      <th>metronidazole</th>\n      <th>fusidic acid</th>\n    </tr>\n  </thead>\n  <tbody>\n    <tr>\n      <th>0</th>\n      <td>16S rRNA methyltransferase (G1405)</td>\n      <td>rmtC</td>\n      <td>NaN</td>\n      <td>NaN</td>\n      <td>NaN</td>\n      <td>NaN</td>\n      <td>NaN</td>\n      <td>NaN</td>\n      <td>NaN</td>\n      <td>NaN</td>\n      <td>...</td>\n      <td>NaN</td>\n      <td>NaN</td>\n      <td>NaN</td>\n      <td>NaN</td>\n      <td>NaN</td>\n      <td>NaN</td>\n      <td>NaN</td>\n      <td>NaN</td>\n      <td>NaN</td>\n      <td>NaN</td>\n    </tr>\n    <tr>\n      <th>1</th>\n      <td>16S rRNA methyltransferase (G1405)</td>\n      <td>rmtC</td>\n      <td>NaN</td>\n      <td>NaN</td>\n      <td>NaN</td>\n      <td>NaN</td>\n      <td>NaN</td>\n      <td>NaN</td>\n      <td>NaN</td>\n      <td>NaN</td>\n      <td>...</td>\n      <td>NaN</td>\n      <td>NaN</td>\n      <td>NaN</td>\n      <td>NaN</td>\n      <td>NaN</td>\n      <td>NaN</td>\n      <td>NaN</td>\n      <td>NaN</td>\n      <td>NaN</td>\n      <td>NaN</td>\n    </tr>\n    <tr>\n      <th>2</th>\n      <td>16S rRNA methyltransferase (G1405)</td>\n      <td>rmtC</td>\n      <td>NaN</td>\n      <td>NaN</td>\n      <td>NaN</td>\n      <td>NaN</td>\n      <td>NaN</td>\n      <td>NaN</td>\n      <td>NaN</td>\n      <td>NaN</td>\n      <td>...</td>\n      <td>NaN</td>\n      <td>NaN</td>\n      <td>NaN</td>\n      <td>NaN</td>\n      <td>NaN</td>\n      <td>NaN</td>\n      <td>NaN</td>\n      <td>NaN</td>\n      <td>NaN</td>\n      <td>NaN</td>\n    </tr>\n    <tr>\n      <th>3</th>\n      <td>16S rRNA methyltransferase (G1405)</td>\n      <td>rmtC</td>\n      <td>NaN</td>\n      <td>NaN</td>\n      <td>NaN</td>\n      <td>NaN</td>\n      <td>NaN</td>\n      <td>NaN</td>\n      <td>NaN</td>\n      <td>NaN</td>\n      <td>...</td>\n      <td>NaN</td>\n      <td>NaN</td>\n      <td>NaN</td>\n      <td>NaN</td>\n      <td>NaN</td>\n      <td>NaN</td>\n      <td>NaN</td>\n      <td>NaN</td>\n      <td>NaN</td>\n      <td>NaN</td>\n    </tr>\n    <tr>\n      <th>4</th>\n      <td>16S rRNA methyltransferase (G1405)</td>\n      <td>rmtC</td>\n      <td>NaN</td>\n      <td>NaN</td>\n      <td>NaN</td>\n      <td>NaN</td>\n      <td>NaN</td>\n      <td>NaN</td>\n      <td>NaN</td>\n      <td>NaN</td>\n      <td>...</td>\n      <td>NaN</td>\n      <td>NaN</td>\n      <td>NaN</td>\n      <td>NaN</td>\n      <td>NaN</td>\n      <td>NaN</td>\n      <td>NaN</td>\n      <td>NaN</td>\n      <td>NaN</td>\n      <td>NaN</td>\n    </tr>\n    <tr>\n      <th>...</th>\n      <td>...</td>\n      <td>...</td>\n      <td>...</td>\n      <td>...</td>\n      <td>...</td>\n      <td>...</td>\n      <td>...</td>\n      <td>...</td>\n      <td>...</td>\n      <td>...</td>\n      <td>...</td>\n      <td>...</td>\n      <td>...</td>\n      <td>...</td>\n      <td>...</td>\n      <td>...</td>\n      <td>...</td>\n      <td>...</td>\n      <td>...</td>\n      <td>...</td>\n      <td>...</td>\n    </tr>\n    <tr>\n      <th>49154</th>\n      <td>trimethoprim resistant dihydrofolate reductase...</td>\n      <td>dfrA27</td>\n      <td>NaN</td>\n      <td>NaN</td>\n      <td>NaN</td>\n      <td>NaN</td>\n      <td>NaN</td>\n      <td>NaN</td>\n      <td>NaN</td>\n      <td>NaN</td>\n      <td>...</td>\n      <td>NaN</td>\n      <td>NaN</td>\n      <td>NaN</td>\n      <td>NaN</td>\n      <td>NaN</td>\n      <td>NaN</td>\n      <td>NaN</td>\n      <td>NaN</td>\n      <td>NaN</td>\n      <td>NaN</td>\n    </tr>\n    <tr>\n      <th>49155</th>\n      <td>trimethoprim resistant dihydrofolate reductase...</td>\n      <td>dfrA27</td>\n      <td>NaN</td>\n      <td>NaN</td>\n      <td>NaN</td>\n      <td>NaN</td>\n      <td>NaN</td>\n      <td>NaN</td>\n      <td>NaN</td>\n      <td>NaN</td>\n      <td>...</td>\n      <td>NaN</td>\n      <td>NaN</td>\n      <td>NaN</td>\n      <td>NaN</td>\n      <td>NaN</td>\n      <td>NaN</td>\n      <td>NaN</td>\n      <td>NaN</td>\n      <td>NaN</td>\n      <td>NaN</td>\n    </tr>\n    <tr>\n      <th>49156</th>\n      <td>trimethoprim resistant dihydrofolate reductase...</td>\n      <td>dfrI</td>\n      <td>NaN</td>\n      <td>NaN</td>\n      <td>NaN</td>\n      <td>NaN</td>\n      <td>NaN</td>\n      <td>NaN</td>\n      <td>NaN</td>\n      <td>NaN</td>\n      <td>...</td>\n      <td>NaN</td>\n      <td>NaN</td>\n      <td>NaN</td>\n      <td>NaN</td>\n      <td>NaN</td>\n      <td>NaN</td>\n      <td>NaN</td>\n      <td>NaN</td>\n      <td>NaN</td>\n      <td>NaN</td>\n    </tr>\n    <tr>\n      <th>49157</th>\n      <td>trimethoprim resistant dihydrofolate reductase...</td>\n      <td>dfrI</td>\n      <td>NaN</td>\n      <td>NaN</td>\n      <td>NaN</td>\n      <td>NaN</td>\n      <td>NaN</td>\n      <td>NaN</td>\n      <td>NaN</td>\n      <td>NaN</td>\n      <td>...</td>\n      <td>NaN</td>\n      <td>NaN</td>\n      <td>NaN</td>\n      <td>NaN</td>\n      <td>NaN</td>\n      <td>NaN</td>\n      <td>NaN</td>\n      <td>NaN</td>\n      <td>NaN</td>\n      <td>NaN</td>\n    </tr>\n    <tr>\n      <th>49158</th>\n      <td>trimethoprim resistant dihydrofolate reductase...</td>\n      <td>dfrI</td>\n      <td>NaN</td>\n      <td>NaN</td>\n      <td>NaN</td>\n      <td>NaN</td>\n      <td>NaN</td>\n      <td>NaN</td>\n      <td>NaN</td>\n      <td>NaN</td>\n      <td>...</td>\n      <td>NaN</td>\n      <td>NaN</td>\n      <td>NaN</td>\n      <td>NaN</td>\n      <td>NaN</td>\n      <td>NaN</td>\n      <td>NaN</td>\n      <td>NaN</td>\n      <td>NaN</td>\n      <td>NaN</td>\n    </tr>\n  </tbody>\n</table>\n<p>49159 rows × 98 columns</p>\n</div>"
     },
     "execution_count": 54,
     "metadata": {},
     "output_type": "execute_result"
    }
   ],
   "source": [
    "family_gene_df"
   ],
   "metadata": {
    "collapsed": false,
    "pycharm": {
     "name": "#%%\n"
    }
   }
  },
  {
   "cell_type": "code",
   "execution_count": 59,
   "outputs": [
    {
     "name": "stdout",
     "output_type": "stream",
     "text": [
      "                                             family gene    gene ceftriaxone  \\\n",
      "0                     16S rRNA methyltransferase (G1405)    rmtC         NaN   \n",
      "1                     16S rRNA methyltransferase (G1405)    rmtC         NaN   \n",
      "2                     16S rRNA methyltransferase (G1405)    rmtC         NaN   \n",
      "3                     16S rRNA methyltransferase (G1405)    rmtC         NaN   \n",
      "4                     16S rRNA methyltransferase (G1405)    rmtC         NaN   \n",
      "...                                                  ...     ...         ...   \n",
      "49154  trimethoprim resistant dihydrofolate reductase...  dfrA27           S   \n",
      "49155  trimethoprim resistant dihydrofolate reductase...  dfrA27           S   \n",
      "49156  trimethoprim resistant dihydrofolate reductase...    dfrI           S   \n",
      "49157  trimethoprim resistant dihydrofolate reductase...    dfrI           S   \n",
      "49158  trimethoprim resistant dihydrofolate reductase...    dfrI           S   \n",
      "\n",
      "      amoxicillin-clavulanic acid ampicillin azithromycin cefoxitin  \\\n",
      "0                             NaN        NaN          NaN       NaN   \n",
      "1                             NaN        NaN          NaN       NaN   \n",
      "2                             NaN        NaN          NaN       NaN   \n",
      "3                             NaN        NaN          NaN       NaN   \n",
      "4                             NaN        NaN          NaN       NaN   \n",
      "...                           ...        ...          ...       ...   \n",
      "49154                         NaN        NaN          NaN         S   \n",
      "49155                         NaN        NaN          NaN         S   \n",
      "49156                           S          S            S         S   \n",
      "49157                           S          S            S         S   \n",
      "49158                           S          S            S         S   \n",
      "\n",
      "      chloramphenicol tetracycline erythromycin  ... cefalotin sulfonamide  \\\n",
      "0                   S            S          NaN  ...       NaN         NaN   \n",
      "1                   S            S          NaN  ...       NaN         NaN   \n",
      "2                   S            S          NaN  ...       NaN         NaN   \n",
      "3                   S            S          NaN  ...       NaN         NaN   \n",
      "4                   S            S          NaN  ...       NaN         NaN   \n",
      "...               ...          ...          ...  ...       ...         ...   \n",
      "49154             NaN          NaN          NaN  ...       NaN         NaN   \n",
      "49155             NaN          NaN          NaN  ...       NaN         NaN   \n",
      "49156               S            S          NaN  ...       NaN         NaN   \n",
      "49157               S            S          NaN  ...       NaN         NaN   \n",
      "49158               S            S          NaN  ...       NaN         NaN   \n",
      "\n",
      "      pefloxacin eravacycline spectinomycin florfenicol  \\\n",
      "0            NaN          NaN           NaN         NaN   \n",
      "1            NaN          NaN           NaN         NaN   \n",
      "2            NaN          NaN           NaN         NaN   \n",
      "3            NaN          NaN           NaN         NaN   \n",
      "4            NaN          NaN           NaN         NaN   \n",
      "...          ...          ...           ...         ...   \n",
      "49154        NaN          NaN           NaN         NaN   \n",
      "49155        NaN          NaN           NaN         NaN   \n",
      "49156        NaN          NaN           NaN         NaN   \n",
      "49157        NaN          NaN           NaN         NaN   \n",
      "49158        NaN          NaN           NaN         NaN   \n",
      "\n",
      "      fosfomycin-glucose-6-phosphate synercid metronidazole fusidic acid  \n",
      "0                                NaN      NaN           NaN          NaN  \n",
      "1                                NaN      NaN           NaN          NaN  \n",
      "2                                NaN      NaN           NaN          NaN  \n",
      "3                                NaN      NaN           NaN          NaN  \n",
      "4                                NaN      NaN           NaN          NaN  \n",
      "...                              ...      ...           ...          ...  \n",
      "49154                            NaN      NaN           NaN          NaN  \n",
      "49155                            NaN      NaN           NaN          NaN  \n",
      "49156                            NaN      NaN           NaN          NaN  \n",
      "49157                            NaN      NaN           NaN          NaN  \n",
      "49158                            NaN      NaN           NaN          NaN  \n",
      "\n",
      "[49159 rows x 98 columns]\n"
     ]
    }
   ],
   "source": [
    "# Iterating over each index, antibiotic in df_ast_s\n",
    "for _, row in df_ast_s.iterrows():\n",
    "    index = row['index']\n",
    "    antibiotic = row['antibiotic']\n",
    "\n",
    "    # Finding corresponding gens in df_gens\n",
    "    matching_gens = df_gens[df_gens['index'] == index]['gen']\n",
    "\n",
    "    # Updating values in new_tab\n",
    "    for gen in matching_gens:\n",
    "        family_gene_df.loc[family_gene_df['gene'] == gen, antibiotic] = 'S'\n",
    "\n",
    "print(family_gene_df)\n"
   ],
   "metadata": {
    "collapsed": false,
    "pycharm": {
     "name": "#%%\n"
    }
   }
  },
  {
   "cell_type": "code",
   "execution_count": 60,
   "outputs": [],
   "source": [
    "family_gene_df.to_csv('final_table.csv', index=False)"
   ],
   "metadata": {
    "collapsed": false,
    "pycharm": {
     "name": "#%%\n"
    }
   }
  },
  {
   "cell_type": "code",
   "execution_count": 65,
   "outputs": [
    {
     "name": "stdout",
     "output_type": "stream",
     "text": [
      "Collecting openpyxl\r\n",
      "  Using cached openpyxl-3.1.2-py2.py3-none-any.whl (249 kB)\r\n",
      "Collecting et-xmlfile\r\n",
      "  Using cached et_xmlfile-1.1.0-py3-none-any.whl (4.7 kB)\r\n",
      "Installing collected packages: et-xmlfile, openpyxl\r\n",
      "Successfully installed et-xmlfile-1.1.0 openpyxl-3.1.2\r\n",
      "\u001B[33mWARNING: You are using pip version 21.3.1; however, version 23.1.2 is available.\r\n",
      "You should consider upgrading via the '/Users/taliyas/PycharmProjects/FinalProject/venv/bin/python -m pip install --upgrade pip' command.\u001B[0m\r\n"
     ]
    }
   ],
   "source": [
    "!pip install openpyxl\n"
   ],
   "metadata": {
    "collapsed": false,
    "pycharm": {
     "name": "#%%\n"
    }
   }
  },
  {
   "cell_type": "code",
   "execution_count": 66,
   "outputs": [
    {
     "data": {
      "text/plain": "                    Unnamed: 0 Unnamed: 1 Unnamed: 2 Unnamed: 3  \\\n0          Antimicrobial Class        NaN        NaN        NaN   \n1                  Penicillins        NaN        NaN        NaN   \n2                          NaN        NaN        NaN        NaN   \n3                          NaN        NaN        NaN        NaN   \n4                          NaN        NaN        NaN        NaN   \n5                          NaN        NaN        NaN        NaN   \n6                          NaN        NaN        NaN        NaN   \n7  β-lactam combination agents        NaN        NaN        NaN   \n8         Cephems (parenteral)        NaN        NaN        NaN   \n9                          NaN        NaN        NaN        NaN   \n\n           Unnamed: 4                         Unnamed: 5 Unnamed: 6  \\\n0                 NaN           Antimicrobial Subclasses        NaN   \n1                 NaN  Penicillinase-labile penicillinsa        NaN   \n2                 NaN                                NaN        NaN   \n3                 NaN                                NaN        NaN   \n4                 NaN                                NaN        NaN   \n5                 NaN  Penicillinase-stable penicillinsb        NaN   \n6                 NaN                       Amdinocillin        NaN   \n7                 NaN                                NaN        NaN   \n8   Cephalosporins Ic                                NaN        NaN   \n9  Cephalosporins IIc                                NaN        NaN   \n\n   Unnamed: 7          Unnamed: 8 Unnamed: 9 Unnamed: 10 Unnamed: 11  \\\n0         NaN                 NaN        NaN         NaN         NaN   \n1         NaN          Penicillin        NaN         NaN         NaN   \n2         NaN    Aminopenicillins        NaN         NaN         NaN   \n3         NaN  Carboxypenicillins        NaN         NaN         NaN   \n4         NaN   Ureidopenicillins        NaN         NaN         NaN   \n5         NaN                 NaN        NaN         NaN         NaN   \n6         NaN                 NaN        NaN         NaN         NaN   \n7         NaN                 NaN        NaN         NaN         NaN   \n8         NaN                 NaN        NaN         NaN         NaN   \n9         NaN                 NaN        NaN         NaN         NaN   \n\n  Unnamed: 12 Unnamed: 13                                        Unnamed: 14  \\\n0         NaN         NaN                     Agents Included; Generic Names   \n1         NaN         NaN                                         Penicillin   \n2         NaN         NaN                            Amoxicillin\\nAmpicillin   \n3         NaN         NaN                         Carbenicillin\\nTicarcillin   \n4         NaN         NaN                           Azlocillin\\nPiperacillin   \n5         NaN         NaN     Cloxacillin Dicloxacillin\\nNafcillin Oxacillin   \n6         NaN         NaN                                         Mecillinam   \n7         NaN         NaN  Amoxicillin-clavulanate Ampicillin-sulbactam A...   \n8         NaN         NaN       Cefazolin Cephalothin Cephapirin\\nCephradine   \n9         NaN         NaN     Cefamandole Cefonicid\\nCefuroxime (parenteral)   \n\n  Unnamed: 15 Unnamed: 16 Unnamed: 17  \n0         NaN         NaN         NaN  \n1         NaN         NaN         NaN  \n2         NaN         NaN         NaN  \n3         NaN         NaN         NaN  \n4         NaN         NaN         NaN  \n5         NaN         NaN         NaN  \n6         NaN         NaN         NaN  \n7         NaN         NaN         NaN  \n8         NaN         NaN         NaN  \n9         NaN         NaN         NaN  ",
      "text/html": "<div>\n<style scoped>\n    .dataframe tbody tr th:only-of-type {\n        vertical-align: middle;\n    }\n\n    .dataframe tbody tr th {\n        vertical-align: top;\n    }\n\n    .dataframe thead th {\n        text-align: right;\n    }\n</style>\n<table border=\"1\" class=\"dataframe\">\n  <thead>\n    <tr style=\"text-align: right;\">\n      <th></th>\n      <th>Unnamed: 0</th>\n      <th>Unnamed: 1</th>\n      <th>Unnamed: 2</th>\n      <th>Unnamed: 3</th>\n      <th>Unnamed: 4</th>\n      <th>Unnamed: 5</th>\n      <th>Unnamed: 6</th>\n      <th>Unnamed: 7</th>\n      <th>Unnamed: 8</th>\n      <th>Unnamed: 9</th>\n      <th>Unnamed: 10</th>\n      <th>Unnamed: 11</th>\n      <th>Unnamed: 12</th>\n      <th>Unnamed: 13</th>\n      <th>Unnamed: 14</th>\n      <th>Unnamed: 15</th>\n      <th>Unnamed: 16</th>\n      <th>Unnamed: 17</th>\n    </tr>\n  </thead>\n  <tbody>\n    <tr>\n      <th>0</th>\n      <td>Antimicrobial Class</td>\n      <td>NaN</td>\n      <td>NaN</td>\n      <td>NaN</td>\n      <td>NaN</td>\n      <td>Antimicrobial Subclasses</td>\n      <td>NaN</td>\n      <td>NaN</td>\n      <td>NaN</td>\n      <td>NaN</td>\n      <td>NaN</td>\n      <td>NaN</td>\n      <td>NaN</td>\n      <td>NaN</td>\n      <td>Agents Included; Generic Names</td>\n      <td>NaN</td>\n      <td>NaN</td>\n      <td>NaN</td>\n    </tr>\n    <tr>\n      <th>1</th>\n      <td>Penicillins</td>\n      <td>NaN</td>\n      <td>NaN</td>\n      <td>NaN</td>\n      <td>NaN</td>\n      <td>Penicillinase-labile penicillinsa</td>\n      <td>NaN</td>\n      <td>NaN</td>\n      <td>Penicillin</td>\n      <td>NaN</td>\n      <td>NaN</td>\n      <td>NaN</td>\n      <td>NaN</td>\n      <td>NaN</td>\n      <td>Penicillin</td>\n      <td>NaN</td>\n      <td>NaN</td>\n      <td>NaN</td>\n    </tr>\n    <tr>\n      <th>2</th>\n      <td>NaN</td>\n      <td>NaN</td>\n      <td>NaN</td>\n      <td>NaN</td>\n      <td>NaN</td>\n      <td>NaN</td>\n      <td>NaN</td>\n      <td>NaN</td>\n      <td>Aminopenicillins</td>\n      <td>NaN</td>\n      <td>NaN</td>\n      <td>NaN</td>\n      <td>NaN</td>\n      <td>NaN</td>\n      <td>Amoxicillin\\nAmpicillin</td>\n      <td>NaN</td>\n      <td>NaN</td>\n      <td>NaN</td>\n    </tr>\n    <tr>\n      <th>3</th>\n      <td>NaN</td>\n      <td>NaN</td>\n      <td>NaN</td>\n      <td>NaN</td>\n      <td>NaN</td>\n      <td>NaN</td>\n      <td>NaN</td>\n      <td>NaN</td>\n      <td>Carboxypenicillins</td>\n      <td>NaN</td>\n      <td>NaN</td>\n      <td>NaN</td>\n      <td>NaN</td>\n      <td>NaN</td>\n      <td>Carbenicillin\\nTicarcillin</td>\n      <td>NaN</td>\n      <td>NaN</td>\n      <td>NaN</td>\n    </tr>\n    <tr>\n      <th>4</th>\n      <td>NaN</td>\n      <td>NaN</td>\n      <td>NaN</td>\n      <td>NaN</td>\n      <td>NaN</td>\n      <td>NaN</td>\n      <td>NaN</td>\n      <td>NaN</td>\n      <td>Ureidopenicillins</td>\n      <td>NaN</td>\n      <td>NaN</td>\n      <td>NaN</td>\n      <td>NaN</td>\n      <td>NaN</td>\n      <td>Azlocillin\\nPiperacillin</td>\n      <td>NaN</td>\n      <td>NaN</td>\n      <td>NaN</td>\n    </tr>\n    <tr>\n      <th>5</th>\n      <td>NaN</td>\n      <td>NaN</td>\n      <td>NaN</td>\n      <td>NaN</td>\n      <td>NaN</td>\n      <td>Penicillinase-stable penicillinsb</td>\n      <td>NaN</td>\n      <td>NaN</td>\n      <td>NaN</td>\n      <td>NaN</td>\n      <td>NaN</td>\n      <td>NaN</td>\n      <td>NaN</td>\n      <td>NaN</td>\n      <td>Cloxacillin Dicloxacillin\\nNafcillin Oxacillin</td>\n      <td>NaN</td>\n      <td>NaN</td>\n      <td>NaN</td>\n    </tr>\n    <tr>\n      <th>6</th>\n      <td>NaN</td>\n      <td>NaN</td>\n      <td>NaN</td>\n      <td>NaN</td>\n      <td>NaN</td>\n      <td>Amdinocillin</td>\n      <td>NaN</td>\n      <td>NaN</td>\n      <td>NaN</td>\n      <td>NaN</td>\n      <td>NaN</td>\n      <td>NaN</td>\n      <td>NaN</td>\n      <td>NaN</td>\n      <td>Mecillinam</td>\n      <td>NaN</td>\n      <td>NaN</td>\n      <td>NaN</td>\n    </tr>\n    <tr>\n      <th>7</th>\n      <td>β-lactam combination agents</td>\n      <td>NaN</td>\n      <td>NaN</td>\n      <td>NaN</td>\n      <td>NaN</td>\n      <td>NaN</td>\n      <td>NaN</td>\n      <td>NaN</td>\n      <td>NaN</td>\n      <td>NaN</td>\n      <td>NaN</td>\n      <td>NaN</td>\n      <td>NaN</td>\n      <td>NaN</td>\n      <td>Amoxicillin-clavulanate Ampicillin-sulbactam A...</td>\n      <td>NaN</td>\n      <td>NaN</td>\n      <td>NaN</td>\n    </tr>\n    <tr>\n      <th>8</th>\n      <td>Cephems (parenteral)</td>\n      <td>NaN</td>\n      <td>NaN</td>\n      <td>NaN</td>\n      <td>Cephalosporins Ic</td>\n      <td>NaN</td>\n      <td>NaN</td>\n      <td>NaN</td>\n      <td>NaN</td>\n      <td>NaN</td>\n      <td>NaN</td>\n      <td>NaN</td>\n      <td>NaN</td>\n      <td>NaN</td>\n      <td>Cefazolin Cephalothin Cephapirin\\nCephradine</td>\n      <td>NaN</td>\n      <td>NaN</td>\n      <td>NaN</td>\n    </tr>\n    <tr>\n      <th>9</th>\n      <td>NaN</td>\n      <td>NaN</td>\n      <td>NaN</td>\n      <td>NaN</td>\n      <td>Cephalosporins IIc</td>\n      <td>NaN</td>\n      <td>NaN</td>\n      <td>NaN</td>\n      <td>NaN</td>\n      <td>NaN</td>\n      <td>NaN</td>\n      <td>NaN</td>\n      <td>NaN</td>\n      <td>NaN</td>\n      <td>Cefamandole Cefonicid\\nCefuroxime (parenteral)</td>\n      <td>NaN</td>\n      <td>NaN</td>\n      <td>NaN</td>\n    </tr>\n  </tbody>\n</table>\n</div>"
     },
     "execution_count": 66,
     "metadata": {},
     "output_type": "execute_result"
    }
   ],
   "source": [
    "import pandas as pd\n",
    "\n",
    "xlsx_file = 'Antibiotics_classes_designations_and_generic_names.xlsx'\n",
    "antibiotic_per_family = pd.read_excel(xlsx_file, engine='openpyxl')\n",
    "antibiotic_per_family.head(10)\n"
   ],
   "metadata": {
    "collapsed": false,
    "pycharm": {
     "name": "#%%\n"
    }
   }
  },
  {
   "cell_type": "code",
   "execution_count": 62,
   "outputs": [
    {
     "data": {
      "text/plain": "Index(['This document is protected'], dtype='object')"
     },
     "execution_count": 62,
     "metadata": {},
     "output_type": "execute_result"
    }
   ],
   "source": [
    "antibiotic_per_family.columns"
   ],
   "metadata": {
    "collapsed": false,
    "pycharm": {
     "name": "#%%\n"
    }
   }
  },
  {
   "cell_type": "code",
   "execution_count": 67,
   "outputs": [
    {
     "name": "stdout",
     "output_type": "stream",
     "text": [
      "['aminoglycoside antibiotic', 'streptogramin antibiotic', 'sulfonamide antibiotic', 'fluoroquinolone antibiotic; tetracycline antibiotic', 'cephalosporin; penam', 'aminoglycoside antibiotic; cephalosporin; fluoroquinolone antibiotic; macrolide antibiotic', 'phenicol antibiotic', 'tetracycline antibiotic', 'acridine dye; aminoglycoside antibiotic; carbapenem; cephalosporin; cephamycin; fluoroquinolone antibiotic; macrolide antibiotic; penam; phenicol antibiotic; tetracycline antibiotic', 'penam', 'carbapenem; cephalosporin; cephamycin; penam; penem', 'carbapenem; cephalosporin; cephamycin; penam', 'lincosamide antibiotic; macrolide antibiotic; oxazolidinone antibiotic; phenicol antibiotic; pleuromutilin antibiotic; streptogramin antibiotic; tetracycline antibiotic', 'macrolide antibiotic', 'fosfomycin', 'glycylcycline; tetracycline antibiotic', 'aminocoumarin antibiotic; macrolide antibiotic', 'fluoroquinolone antibiotic', 'acridine dye; fluoroquinolone antibiotic; triclosan', 'carbapenem; cephalosporin; diaminopyrimidine antibiotic; fluoroquinolone antibiotic; lincosamide antibiotic; macrolide antibiotic; penem; phenicol antibiotic; rifamycin antibiotic; tetracycline antibiotic', 'acridine dye; macrolide antibiotic', 'cephalosporin', 'peptide antibiotic', 'cephalosporin; monobactam; penam; penem', 'cephalosporin; monobactam; penam', 'carbapenem; cephalosporin; monobactam; penam; penem', 'diaminopyrimidine antibiotic', 'rifamycin antibiotic', 'cephalosporin; monobactam', 'cephamycin', 'carbapenem; cephalosporin; penam', 'elfamycin antibiotic', 'carbapenem; cephalosporin; cephamycin', 'nucleoside antibiotic', 'glycopeptide antibiotic', 'carbapenem', 'fluoroquinolone antibiotic; macrolide antibiotic', 'carbapenem; cephalosporin; monobactam; penam', 'acridine dye; nucleoside antibiotic', 'cephalosporin; cephamycin; fluoroquinolone antibiotic; penam', 'aminocoumarin antibiotic; aminoglycoside antibiotic; carbapenem; cephalosporin; cephamycin; fluoroquinolone antibiotic; glycylcycline; macrolide antibiotic; penam; penem; peptide antibiotic; phenicol antibiotic; rifamycin antibiotic; tetracycline antibiotic; triclosan', 'aminocoumarin antibiotic', 'diaminopyrimidine antibiotic; fluoroquinolone antibiotic; glycylcycline; nitrofuran antibiotic; tetracycline antibiotic', 'aminoglycoside antibiotic; carbapenem; cephalosporin; fluoroquinolone antibiotic; macrolide antibiotic; penam; penem; peptide antibiotic', 'carbapenem; cephalosporin; cephamycin; monobactam; penam; penem', 'lincosamide antibiotic; macrolide antibiotic; streptogramin antibiotic', 'fluoroquinolone antibiotic; macrolide antibiotic; penam', 'nitroimidazole antibiotic', 'aminoglycoside antibiotic; fluoroquinolone antibiotic', 'aminocoumarin antibiotic; macrolide antibiotic; monobactam; tetracycline antibiotic', 'cephalosporin; fluoroquinolone antibiotic; glycylcycline; penam; phenicol antibiotic; rifamycin antibiotic; tetracycline antibiotic; triclosan', 'benzalkonium chloride; rhodamine; tetracycline antibiotic', 'aminocoumarin antibiotic; aminoglycoside antibiotic', 'lincosamide antibiotic; macrolide antibiotic', 'triclosan', 'carbapenem; cephalosporin; monobactam', 'carbapenem; cephalosporin; cephamycin; monobactam; penam; penem; phenicol antibiotic', 'diaminopyrimidine antibiotic; fluoroquinolone antibiotic; phenicol antibiotic', 'acridine dye', 'macrolide antibiotic; tetracycline antibiotic; triclosan', 'aminocoumarin antibiotic; carbapenem; cephalosporin; cephamycin; diaminopyrimidine antibiotic; fluoroquinolone antibiotic; macrolide antibiotic; monobactam; penam; penem; peptide antibiotic; phenicol antibiotic; sulfonamide antibiotic; tetracycline antibiotic', 'acridine dye; carbapenem; diaminopyrimidine antibiotic; macrolide antibiotic; phenicol antibiotic; tetracycline antibiotic', 'acridine dye; fluoroquinolone antibiotic; tetracycline antibiotic', 'aminocoumarin antibiotic; aminoglycoside antibiotic; cephalosporin; diaminopyrimidine antibiotic; fluoroquinolone antibiotic; macrolide antibiotic; penam; phenicol antibiotic; tetracycline antibiotic', 'acridine dye; fluoroquinolone antibiotic; macrolide antibiotic; phenicol antibiotic; tetracycline antibiotic', 'acridine dye; aminocoumarin antibiotic; aminoglycoside antibiotic; carbapenem; cephalosporin; cephamycin; diaminopyrimidine antibiotic; fluoroquinolone antibiotic; macrolide antibiotic; monobactam; penam; penem; peptide antibiotic; phenicol antibiotic; sulfonamide antibiotic; tetracycline antibiotic', 'fluoroquinolone antibiotic; macrolide antibiotic; phenicol antibiotic; tetracycline antibiotic', 'aminoglycoside antibiotic; cephalosporin; cephamycin; penam', 'acridine dye; aminoglycoside antibiotic; carbapenem; cephalosporin; cephamycin; fluoroquinolone antibiotic; macrolide antibiotic; monobactam; penam; penem; phenicol antibiotic; tetracycline antibiotic', 'lincosamide antibiotic', 'cephalosporin; fluoroquinolone antibiotic; fusidic acid; macrolide antibiotic', 'cephalosporin; cephamycin', 'carbapenem; cephalosporin; cephamycin; fluoroquinolone antibiotic; glycylcycline; monobactam; penam; penem; phenicol antibiotic; rifamycin antibiotic; tetracycline antibiotic; triclosan', 'cephalosporin; cephamycin; fluoroquinolone antibiotic; macrolide antibiotic; penam; tetracycline antibiotic', 'aminoglycoside antibiotic; cephalosporin; macrolide antibiotic; peptide antibiotic; rifamycin antibiotic; tetracycline antibiotic', 'cephalosporin; cephamycin; penam', 'fluoroquinolone antibiotic; macrolide antibiotic; penam; tetracycline antibiotic', 'lincosamide antibiotic; oxazolidinone antibiotic; phenicol antibiotic; streptogramin antibiotic', 'acridine dye; fluoroquinolone antibiotic', 'lincosamide antibiotic; oxazolidinone antibiotic; phenicol antibiotic; pleuromutilin antibiotic; streptogramin antibiotic', 'aminoglycoside antibiotic; fluoroquinolone antibiotic; rifamycin antibiotic; tetracycline antibiotic', 'isoniazid; triclosan', 'nitrofuran antibiotic', 'aminoglycoside antibiotic; benzalkonium chloride; fluoroquinolone antibiotic', 'cephalosporin; penam; penem', 'cephalosporin; fluoroquinolone antibiotic; monobactam', 'acridine dye; fluoroquinolone antibiotic; lincosamide antibiotic; nucleoside antibiotic; phenicol antibiotic', 'aminocoumarin antibiotic; cephalosporin; diaminopyrimidine antibiotic; fluoroquinolone antibiotic; macrolide antibiotic; penam; phenicol antibiotic; tetracycline antibiotic', 'fluoroquinolone antibiotic; macrolide antibiotic; rifamycin antibiotic', 'cephalosporin; cephamycin; fluoroquinolone antibiotic; glycylcycline; penam; phenicol antibiotic; rifamycin antibiotic; tetracycline antibiotic; triclosan', 'oxazolidinone antibiotic', 'acridine dye; cephalosporin; fluoroquinolone antibiotic; penam; peptide antibiotic; tetracycline antibiotic', 'fluoroquinolone antibiotic; nitroimidazole antibiotic; tetracycline antibiotic', 'macrolide antibiotic; penam', 'penam; penem', 'macrolide antibiotic; peptide antibiotic', 'aminoglycoside antibiotic; diaminopyrimidine antibiotic; macrolide antibiotic; oxazolidinone antibiotic; phenicol antibiotic', 'acridine dye; cephalosporin; fluoroquinolone antibiotic; glycylcycline; penam; phenicol antibiotic; rifamycin antibiotic; tetracycline antibiotic; triclosan', 'bicyclomycin', 'pleuromutilin antibiotic', 'peptide antibiotic; rifamycin antibiotic', 'mupirocin', 'isoniazid; rifamycin antibiotic', 'isoniazid', 'pyrazinamide', 'polyamine antibiotic', 'para-aminosalicylic acid', 'ethionamide', 'antibacterial free fatty acids', 'carbapenem; cephalosporin; cephamycin; monobactam; penam; penem; tetracycline antibiotic', 'antibacterial free fatty acids; macrolide antibiotic; penam', 'aminocoumarin antibiotic; aminoglycoside antibiotic; carbapenem; cephalosporin; cephamycin; diaminopyrimidine antibiotic; fluoroquinolone antibiotic; macrolide antibiotic; monobactam; penam; penem; peptide antibiotic; phenicol antibiotic; sulfonamide antibiotic; tetracycline antibiotic', 'aminoglycoside antibiotic; carbapenem; fluoroquinolone antibiotic; macrolide antibiotic; tetracycline antibiotic', 'carbapenem; cephalosporin', 'fusidic acid', 'glycopeptide antibiotic; lincosamide antibiotic; macrolide antibiotic; oxazolidinone antibiotic; phenicol antibiotic; pleuromutilin antibiotic; streptogramin antibiotic', 'lincosamide antibiotic; macrolide antibiotic; streptogramin antibiotic; tetracycline antibiotic', 'carbapenem; monobactam; penam', 'lincosamide antibiotic; phenicol antibiotic; pleuromutilin antibiotic; streptogramin antibiotic']\n"
     ]
    }
   ],
   "source": [
    "drugs_list = gzip_df_small[\"drug_class\"].unique().tolist()\n",
    "print(drugs_list)\n"
   ],
   "metadata": {
    "collapsed": false,
    "pycharm": {
     "name": "#%%\n"
    }
   }
  },
  {
   "cell_type": "code",
   "execution_count": 69,
   "outputs": [
    {
     "name": "stdout",
     "output_type": "stream",
     "text": [
      "['spectinomycin', 'trimethoprim-sulfamethoxazole', 'azithromycin', 'ceftazidime-avibactam', 'piperacillin', 'ticarcillin', 'kanamycin', 'oxacillin', 'tedizolid', 'cefiderocol', 'synercid', 'penicillin', 'cefazolin', 'cefotaxime-clavulanic acid', 'sulbactam', 'cefpodoxime', 'ceftriaxone', 'benzylpenicillin', 'ceftolozane-tazobactam', 'neomycin', 'zoliflodacin', 'rifampin', 'vancomycin', 'gentamicin', 'imipenem', 'tetracycline', 'clindamycin', 'tobramycin', 'quinupristin-dalfopristin', 'cefalexin', 'norfloxacin', 'cefotetan', 'clarithromycin', 'minocycline', 'levofloxacin', 'dicloxacillin', 'amoxicillin', 'ampicillin', 'tigecycline', 'meropenem', 'fosfomycin-glucose-6-phosphate', 'cefuroxime', 'cefixime', 'mupirocin', 'doripenem', 'delafloxacin', 'sulfisoxazole', 'cefamandole', 'plazomicin', 'fosfomycin', 'temocillin', 'pefloxacin', 'ertapenem', 'cefalotin', 'florfenicol', 'sulfamethoxazole', 'sulfonamide', 'ceftiofur', 'amikacin', 'aztreonam', 'ticarcillin-clavulanic acid', 'linezolid', 'cephalexin', 'meropenem-vaborbactam', 'nalidixic acid', 'teicoplanin', 'cefotaxime', 'imipenem-relebactam', 'polymyxin', 'polymyxin B', 'erythromycin', 'trimethoprim', 'cefoxitin', 'cephalothin', 'ceftazidime-clavulanic acid', 'telithromycin', 'ampicillin-sulbactam', 'ceftaroline', 'ciprofloxacin', 'eravacycline', 'doxycycline', 'cefepime', 'daptomycin', 'nitrofurantoin', 'piperacillin-tazobactam', 'omadacycline', 'colistin', 'carbenicillin', 'chloramphenicol', 'netilmicin', 'fusidic acid', 'ceftazidime', 'amoxicillin-clavulanic acid', 'streptomycin', 'moxifloxacin', 'metronidazole']\n"
     ]
    }
   ],
   "source": [
    "print(all_antibiotics)"
   ],
   "metadata": {
    "collapsed": false,
    "pycharm": {
     "name": "#%%\n"
    }
   }
  },
  {
   "cell_type": "code",
   "execution_count": 3,
   "outputs": [
    {
     "data": {
      "text/plain": "Index(['antibiotics', 'family', 'Unnamed: 2', 'Unnamed: 3', 'Unnamed: 4',\n       'Unnamed: 5', 'Unnamed: 6', 'Unnamed: 7', 'Unnamed: 8', 'Unnamed: 9',\n       'Unnamed: 10', 'Unnamed: 11', 'Unnamed: 12', 'Unnamed: 13',\n       'Unnamed: 14'],\n      dtype='object')"
     },
     "execution_count": 3,
     "metadata": {},
     "output_type": "execute_result"
    }
   ],
   "source": [
    "antibiotic_family = pd.read_csv(\"antibiotic_families.csv\")\n",
    "antibiotic_family.columns"
   ],
   "metadata": {
    "collapsed": false,
    "pycharm": {
     "name": "#%%\n"
    }
   }
  },
  {
   "cell_type": "code",
   "execution_count": 13,
   "outputs": [],
   "source": [
    "# Create a dictionary mapping antibiotics to families\n",
    "antibiotics_to_families = {\n",
    "    'synercid': 'streptogramin',\n",
    "    'cefotaxime-clavulanic acid': 'cephalosporin',\n",
    "    'sulbactam': 'beta-lactamase',\n",
    "    'benzylpenicillin': 'beta-lactamase',\n",
    "    'neomycin': 'aminoglycoside',\n",
    "    'cefalexin': 'cephalosporin',\n",
    "    'cefuroxime': 'beta-lactamase',\n",
    "    'temocillin': 'beta-lactamase',\n",
    "    'cefalotin': 'cephalosporin',\n",
    "    'ceftiofur': 'cephalosporin',\n",
    "    'ticarcillin-clavulanic acid': 'beta-lactamase',\n",
    "    'ceftazidime-clavulanic acid': 'cephalosporin',\n",
    "    'amoxicillin-clavulanic acid': 'beta-lactamase'\n",
    "}\n",
    "\n",
    "# Update 'family' column based on 'antibiotics' column\n",
    "for antibiotic, family in antibiotics_to_families.items():\n",
    "    antibiotic_family.loc[antibiotic_family['antibiotics'] == antibiotic, 'family'] = family\n"
   ],
   "metadata": {
    "collapsed": false,
    "pycharm": {
     "name": "#%%\n"
    }
   }
  },
  {
   "cell_type": "code",
   "execution_count": 14,
   "outputs": [
    {
     "name": "stdout",
     "output_type": "stream",
     "text": [
      "['fosfomycin-glucose-6-phosphate', 'florfenicol']\n",
      "2\n"
     ]
    }
   ],
   "source": [
    "# Create a mask where 'family' column is empty or NaN\n",
    "mask = antibiotic_family['family'].isna()\n",
    "\n",
    "# Use the mask to filter the dataframe and get the corresponding 'antibiotics'\n",
    "antibiotics_with_empty_family = antibiotic_family.loc[mask, 'antibiotics']\n",
    "\n",
    "# 'antibiotics_with_empty_family' is a pandas Series containing 'antibiotics'\n",
    "# corresponding to empty 'family'. You can convert it to a list if needed:\n",
    "antibiotics_no_family = antibiotics_with_empty_family.tolist()\n",
    "print(antibiotics_no_family)\n",
    "print(len(antibiotics_no_family))"
   ],
   "metadata": {
    "collapsed": false,
    "pycharm": {
     "name": "#%%\n"
    }
   }
  },
  {
   "cell_type": "code",
   "execution_count": 15,
   "outputs": [],
   "source": [
    "# Replace '?-lactam combination agents' with 'beta-lactamase' in 'family' column\n",
    "antibiotic_family['family'] = antibiotic_family['family'].replace('?-lactam combination agents', 'beta-lactamase')\n"
   ],
   "metadata": {
    "collapsed": false,
    "pycharm": {
     "name": "#%%\n"
    }
   }
  },
  {
   "cell_type": "code",
   "execution_count": 17,
   "outputs": [
    {
     "data": {
      "text/plain": "                      antibiotics                      family\n0                   spectinomycin              Aminocyclitols\n1   trimethoprim-sulfamethoxazole  Folate pathway antagonists\n2                    azithromycin                  Macrolides\n3           ceftazidime-avibactam              beta-lactamase\n4                    piperacillin                 Penicillins\n..                            ...                         ...\n91                    ceftazidime        Cephems (parenteral)\n92    amoxicillin-clavulanic acid              beta-lactamase\n93                   streptomycin             Aminoglycosides\n94                   moxifloxacin                  Quinolones\n95                  metronidazole          Nitroheterocyclics\n\n[96 rows x 2 columns]",
      "text/html": "<div>\n<style scoped>\n    .dataframe tbody tr th:only-of-type {\n        vertical-align: middle;\n    }\n\n    .dataframe tbody tr th {\n        vertical-align: top;\n    }\n\n    .dataframe thead th {\n        text-align: right;\n    }\n</style>\n<table border=\"1\" class=\"dataframe\">\n  <thead>\n    <tr style=\"text-align: right;\">\n      <th></th>\n      <th>antibiotics</th>\n      <th>family</th>\n    </tr>\n  </thead>\n  <tbody>\n    <tr>\n      <th>0</th>\n      <td>spectinomycin</td>\n      <td>Aminocyclitols</td>\n    </tr>\n    <tr>\n      <th>1</th>\n      <td>trimethoprim-sulfamethoxazole</td>\n      <td>Folate pathway antagonists</td>\n    </tr>\n    <tr>\n      <th>2</th>\n      <td>azithromycin</td>\n      <td>Macrolides</td>\n    </tr>\n    <tr>\n      <th>3</th>\n      <td>ceftazidime-avibactam</td>\n      <td>beta-lactamase</td>\n    </tr>\n    <tr>\n      <th>4</th>\n      <td>piperacillin</td>\n      <td>Penicillins</td>\n    </tr>\n    <tr>\n      <th>...</th>\n      <td>...</td>\n      <td>...</td>\n    </tr>\n    <tr>\n      <th>91</th>\n      <td>ceftazidime</td>\n      <td>Cephems (parenteral)</td>\n    </tr>\n    <tr>\n      <th>92</th>\n      <td>amoxicillin-clavulanic acid</td>\n      <td>beta-lactamase</td>\n    </tr>\n    <tr>\n      <th>93</th>\n      <td>streptomycin</td>\n      <td>Aminoglycosides</td>\n    </tr>\n    <tr>\n      <th>94</th>\n      <td>moxifloxacin</td>\n      <td>Quinolones</td>\n    </tr>\n    <tr>\n      <th>95</th>\n      <td>metronidazole</td>\n      <td>Nitroheterocyclics</td>\n    </tr>\n  </tbody>\n</table>\n<p>96 rows × 2 columns</p>\n</div>"
     },
     "execution_count": 17,
     "metadata": {},
     "output_type": "execute_result"
    }
   ],
   "source": [
    "antibiotic_family = pd.read_csv(\"anti_family.csv\")\n",
    "antibiotic_family"
   ],
   "metadata": {
    "collapsed": false,
    "pycharm": {
     "name": "#%%\n"
    }
   }
  },
  {
   "cell_type": "code",
   "execution_count": 18,
   "outputs": [
    {
     "name": "stdout",
     "output_type": "stream",
     "text": [
      "['Aminocyclitols' 'Folate pathway antagonists' 'Macrolides'\n",
      " 'beta-lactamase' 'Penicillins' 'Aminoglycosides' 'Oxazolidinones'\n",
      " 'Cephems (parenteral)' 'streptogramin' 'cephalosporin' 'Cephems (oral)'\n",
      " 'Cephem' 'aminoglycoside' 'Spiropyrimidinetrione' 'Ansamycins'\n",
      " 'Glycopeptides' 'Penems' 'Tetracyclines' 'Lincosamides' 'Streptogramins'\n",
      " 'Quinolones' nan 'Pseudomonic acid' 'Fosfomycins' 'Monobactams'\n",
      " 'Lipopeptides' 'Nitroheterocyclics' 'Phenicols' 'Steroid']\n"
     ]
    }
   ],
   "source": [
    "unique_families = antibiotic_family['family'].unique()\n"
   ],
   "metadata": {
    "collapsed": false,
    "pycharm": {
     "name": "#%%\n"
    }
   }
  },
  {
   "cell_type": "code",
   "execution_count": 19,
   "outputs": [],
   "source": [
    "replace_dict = {\n",
    "    'Aminocyclitols': 'aminoglycoside',\n",
    "    'Folate pathway antagonists': 'sulfonamide',\n",
    "    'Macrolides': 'macrolide',\n",
    "    'Penicillins': 'Penicillin',\n",
    "    'Aminoglycosides': 'Aminoglycoside',\n",
    "    'Oxazolidinones': 'Oxazolidinone',\n",
    "    'Cephems (parenteral)': 'beta-lactamase',\n",
    "    'Cephems (oral)': 'beta-lactamase',\n",
    "    'Cephem': 'beta-lactamase',\n",
    "    'Ansamycins': 'rifamycin',\n",
    "    'Glycopeptides': 'Glycopeptide',\n",
    "    'Penems': 'Penem',\n",
    "    'Tetracyclines': 'Tetracycline',\n",
    "    'Lincosamides': 'Lincosamide',\n",
    "    'Streptogramins': 'Streptogramin',\n",
    "    'Quinolones': 'Quinolone',\n",
    "    'Fosfomycins': 'Fosfomycin',\n",
    "    'Monobactams': 'Monobactam',\n",
    "    'Nitroheterocyclics': 'nitrofuran',\n",
    "    'Phenicols': 'Phenicol',\n",
    "    'Steroid': 'fusidic acid',\n",
    "}\n",
    "\n",
    "antibiotic_family['family'] = antibiotic_family['family'].replace(replace_dict)\n"
   ],
   "metadata": {
    "collapsed": false,
    "pycharm": {
     "name": "#%%\n"
    }
   }
  },
  {
   "cell_type": "code",
   "execution_count": 20,
   "outputs": [],
   "source": [
    "antibiotic_family.to_csv('antibiotic_family.csv')\n"
   ],
   "metadata": {
    "collapsed": false,
    "pycharm": {
     "name": "#%%\n"
    }
   }
  },
  {
   "cell_type": "code",
   "execution_count": null,
   "outputs": [],
   "source": [],
   "metadata": {
    "collapsed": false,
    "pycharm": {
     "name": "#%%\n"
    }
   }
  }
 ],
 "metadata": {
  "kernelspec": {
   "name": "python3",
   "language": "python",
   "display_name": "Python 3 (ipykernel)"
  },
  "language_info": {
   "codemirror_mode": {
    "name": "ipython",
    "version": 2
   },
   "file_extension": ".py",
   "mimetype": "text/x-python",
   "name": "python",
   "nbconvert_exporter": "python",
   "pygments_lexer": "ipython2",
   "version": "2.7.6"
  }
 },
 "nbformat": 4,
 "nbformat_minor": 0
}